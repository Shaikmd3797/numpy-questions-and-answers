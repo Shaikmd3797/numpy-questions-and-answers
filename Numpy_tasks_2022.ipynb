{
  "cells": [
    {
      "cell_type": "markdown",
      "metadata": {
        "id": "view-in-github",
        "colab_type": "text"
      },
      "source": [
        "<a href=\"https://colab.research.google.com/github/Shaikmd3797/numpy-questions-and-answers/blob/main/Numpy_tasks_2022.ipynb\" target=\"_parent\"><img src=\"https://colab.research.google.com/assets/colab-badge.svg\" alt=\"Open In Colab\"/></a>"
      ]
    },
    {
      "cell_type": "markdown",
      "metadata": {
        "id": "BPVjtDCCXc0_"
      },
      "source": [
        "# Numpy\n",
        "\n"
      ]
    },
    {
      "cell_type": "markdown",
      "metadata": {
        "id": "DUniO6LtXc1K"
      },
      "source": [
        "#### 1. Import the numpy package under the name `np` (★☆☆) \n",
        "(**hint**: import … as …)"
      ]
    },
    {
      "cell_type": "code",
      "execution_count": 1,
      "metadata": {
        "collapsed": true,
        "id": "bgq8rtUkXc1M"
      },
      "outputs": [],
      "source": [
        "import numpy as np"
      ]
    },
    {
      "cell_type": "markdown",
      "metadata": {
        "id": "In9YjhvPXc1O"
      },
      "source": [
        "#### 2. Print the numpy version and the configuration (★☆☆) \n",
        "(**hint**: np.\\_\\_version\\_\\_, np.show\\_config)"
      ]
    },
    {
      "cell_type": "code",
      "execution_count": 68,
      "metadata": {
        "id": "x0fEXXTYXc1P",
        "colab": {
          "base_uri": "https://localhost:8080/"
        },
        "outputId": "dd540c62-3db0-4462-c3e5-580e2e16b189"
      },
      "outputs": [
        {
          "output_type": "execute_result",
          "data": {
            "text/plain": [
              "('The version of numpy is : ', '1.21.6')"
            ]
          },
          "metadata": {},
          "execution_count": 68
        }
      ],
      "source": [
        "\"The version of numpy is : \" ,np.__version__"
      ]
    },
    {
      "cell_type": "code",
      "source": [
        "np.show_config"
      ],
      "metadata": {
        "colab": {
          "base_uri": "https://localhost:8080/"
        },
        "id": "YOadTyjoX4Qg",
        "outputId": "d5e9258f-1e46-4af9-e915-6f4f87981ec0"
      },
      "execution_count": 69,
      "outputs": [
        {
          "output_type": "execute_result",
          "data": {
            "text/plain": [
              "<function numpy.__config__.show()>"
            ]
          },
          "metadata": {},
          "execution_count": 69
        }
      ]
    },
    {
      "cell_type": "markdown",
      "metadata": {
        "id": "URiZR69NXc1Q"
      },
      "source": [
        "#### 3. Create a null vector of size 10 (★☆☆) \n",
        "(**hint**: np.zeros)"
      ]
    },
    {
      "cell_type": "code",
      "execution_count": 70,
      "metadata": {
        "id": "fmH-WXkAXc1R",
        "colab": {
          "base_uri": "https://localhost:8080/"
        },
        "outputId": "cdd64ed5-80aa-4a08-8e1b-9a24744ee9e4"
      },
      "outputs": [
        {
          "output_type": "execute_result",
          "data": {
            "text/plain": [
              "('The array of null vectors of size 10  :',\n",
              " array([0., 0., 0., 0., 0., 0., 0., 0., 0., 0.]))"
            ]
          },
          "metadata": {},
          "execution_count": 70
        }
      ],
      "source": [
        "\"The array of null vectors of size 10  :\" ,np.zeros(10)"
      ]
    },
    {
      "cell_type": "markdown",
      "metadata": {
        "id": "rU3HTS2LXc1S"
      },
      "source": [
        "#### 4.  How to find the memory size of any array (★☆☆) \n",
        "(**hint**: size, itemsize)"
      ]
    },
    {
      "cell_type": "code",
      "execution_count": 71,
      "metadata": {
        "id": "c_16y3hNXc1U",
        "colab": {
          "base_uri": "https://localhost:8080/"
        },
        "outputId": "704386c9-1133-4c12-ea06-be564913da1d"
      },
      "outputs": [
        {
          "output_type": "execute_result",
          "data": {
            "text/plain": [
              "('memory size of total array is ', 200)"
            ]
          },
          "metadata": {},
          "execution_count": 71
        }
      ],
      "source": [
        "a=np.zeros((5,5))\n",
        "\"memory size of total array is \",a.size*a.itemsize"
      ]
    },
    {
      "cell_type": "markdown",
      "metadata": {
        "id": "cVaEGlzwXc1V"
      },
      "source": [
        "#### 5.  How to get the documentation of the numpy add function from the command line? (★☆☆) \n",
        "(**hint**: np.info)"
      ]
    },
    {
      "cell_type": "code",
      "execution_count": 72,
      "metadata": {
        "collapsed": true,
        "id": "4etaKDBxXc1X",
        "colab": {
          "base_uri": "https://localhost:8080/"
        },
        "outputId": "2377bca0-f69b-451b-a61d-b46f9e3b7fa2"
      },
      "outputs": [
        {
          "output_type": "stream",
          "name": "stdout",
          "text": [
            "add(x1, x2, /, out=None, *, where=True, casting='same_kind', order='K', dtype=None, subok=True[, signature, extobj])\n",
            "\n",
            "Add arguments element-wise.\n",
            "\n",
            "Parameters\n",
            "----------\n",
            "x1, x2 : array_like\n",
            "    The arrays to be added.\n",
            "    If ``x1.shape != x2.shape``, they must be broadcastable to a common\n",
            "    shape (which becomes the shape of the output).\n",
            "out : ndarray, None, or tuple of ndarray and None, optional\n",
            "    A location into which the result is stored. If provided, it must have\n",
            "    a shape that the inputs broadcast to. If not provided or None,\n",
            "    a freshly-allocated array is returned. A tuple (possible only as a\n",
            "    keyword argument) must have length equal to the number of outputs.\n",
            "where : array_like, optional\n",
            "    This condition is broadcast over the input. At locations where the\n",
            "    condition is True, the `out` array will be set to the ufunc result.\n",
            "    Elsewhere, the `out` array will retain its original value.\n",
            "    Note that if an uninitialized `out` array is created via the default\n",
            "    ``out=None``, locations within it where the condition is False will\n",
            "    remain uninitialized.\n",
            "**kwargs\n",
            "    For other keyword-only arguments, see the\n",
            "    :ref:`ufunc docs <ufuncs.kwargs>`.\n",
            "\n",
            "Returns\n",
            "-------\n",
            "add : ndarray or scalar\n",
            "    The sum of `x1` and `x2`, element-wise.\n",
            "    This is a scalar if both `x1` and `x2` are scalars.\n",
            "\n",
            "Notes\n",
            "-----\n",
            "Equivalent to `x1` + `x2` in terms of array broadcasting.\n",
            "\n",
            "Examples\n",
            "--------\n",
            ">>> np.add(1.0, 4.0)\n",
            "5.0\n",
            ">>> x1 = np.arange(9.0).reshape((3, 3))\n",
            ">>> x2 = np.arange(3.0)\n",
            ">>> np.add(x1, x2)\n",
            "array([[  0.,   2.,   4.],\n",
            "       [  3.,   5.,   7.],\n",
            "       [  6.,   8.,  10.]])\n",
            "\n",
            "The ``+`` operator can be used as a shorthand for ``np.add`` on ndarrays.\n",
            "\n",
            ">>> x1 = np.arange(9.0).reshape((3, 3))\n",
            ">>> x2 = np.arange(3.0)\n",
            ">>> x1 + x2\n",
            "array([[ 0.,  2.,  4.],\n",
            "       [ 3.,  5.,  7.],\n",
            "       [ 6.,  8., 10.]])\n"
          ]
        }
      ],
      "source": [
        " np.info(np.add)"
      ]
    },
    {
      "cell_type": "markdown",
      "metadata": {
        "id": "4LbuuqDOXc1Y"
      },
      "source": [
        "#### 6.  Create a null vector of size 10 but the fifth value which is 1 (★☆☆) \n",
        "(**hint**: array\\[4\\])"
      ]
    },
    {
      "cell_type": "code",
      "execution_count": 73,
      "metadata": {
        "id": "5HNBEeXzXc1a",
        "colab": {
          "base_uri": "https://localhost:8080/"
        },
        "outputId": "445a9e51-832d-4d9f-9232-322f4da023c9"
      },
      "outputs": [
        {
          "output_type": "execute_result",
          "data": {
            "text/plain": [
              "array([0., 0., 0., 0., 1., 0., 0., 0., 0., 0.])"
            ]
          },
          "metadata": {},
          "execution_count": 73
        }
      ],
      "source": [
        "arr=np.zeros(10)\n",
        "arr[4]=1\n",
        "arr"
      ]
    },
    {
      "cell_type": "markdown",
      "metadata": {
        "id": "OWIwP6iPXc1b"
      },
      "source": [
        "#### 7.  Create a vector with values ranging from 10 to 49 (★☆☆) \n",
        "(**hint**: np.arange)"
      ]
    },
    {
      "cell_type": "code",
      "execution_count": 74,
      "metadata": {
        "id": "R3aXmNh2Xc1c",
        "colab": {
          "base_uri": "https://localhost:8080/"
        },
        "outputId": "9541cbc3-2d8c-4f06-f67f-6c3a1ebd74d3"
      },
      "outputs": [
        {
          "output_type": "execute_result",
          "data": {
            "text/plain": [
              "array([10, 11, 12, 13, 14, 15, 16, 17, 18, 19, 20, 21, 22, 23, 24, 25, 26,\n",
              "       27, 28, 29, 30, 31, 32, 33, 34, 35, 36, 37, 38, 39, 40, 41, 42, 43,\n",
              "       44, 45, 46, 47, 48, 49])"
            ]
          },
          "metadata": {},
          "execution_count": 74
        }
      ],
      "source": [
        "arr=np.arange(10,50)\n",
        "arr"
      ]
    },
    {
      "cell_type": "markdown",
      "metadata": {
        "id": "xgHhW8llXc1d"
      },
      "source": [
        "#### 8.  Reverse a vector (first element becomes last) (★☆☆) \n",
        "(**hint**: array\\[::-1\\])"
      ]
    },
    {
      "cell_type": "code",
      "execution_count": 75,
      "metadata": {
        "id": "dDfieBccXc1e",
        "colab": {
          "base_uri": "https://localhost:8080/"
        },
        "outputId": "d9556287-c306-46a7-aa67-2be655ee6e09"
      },
      "outputs": [
        {
          "output_type": "execute_result",
          "data": {
            "text/plain": [
              "array([19, 18, 17, 16, 15, 14, 13, 12, 11, 10,  9,  8,  7,  6,  5,  4,  3,\n",
              "        2,  1])"
            ]
          },
          "metadata": {},
          "execution_count": 75
        }
      ],
      "source": [
        "arr=np.arange(1,20)\n",
        "arr[::-1]"
      ]
    },
    {
      "cell_type": "markdown",
      "metadata": {
        "id": "9z872FAYXc1f"
      },
      "source": [
        "#### 9.  Create a 3x3 matrix with values ranging from 0 to 8 (★☆☆) \n",
        "(**hint**: reshape)"
      ]
    },
    {
      "cell_type": "code",
      "execution_count": 76,
      "metadata": {
        "id": "5vKteInPXc1g",
        "colab": {
          "base_uri": "https://localhost:8080/"
        },
        "outputId": "a74221c1-9461-4434-ead5-f4f0a7df19b6"
      },
      "outputs": [
        {
          "output_type": "execute_result",
          "data": {
            "text/plain": [
              "array([[0, 1, 2],\n",
              "       [3, 4, 5],\n",
              "       [6, 7, 8]])"
            ]
          },
          "metadata": {},
          "execution_count": 76
        }
      ],
      "source": [
        "arr=np.arange(9).reshape(3,3)\n",
        "arr"
      ]
    },
    {
      "cell_type": "markdown",
      "metadata": {
        "id": "XI--jKDsXc1g"
      },
      "source": [
        "#### 10. Find indices of non-zero elements from \\[1,2,0,0,4,0\\] (★☆☆) \n",
        "(**hint**: np.nonzero)"
      ]
    },
    {
      "cell_type": "code",
      "execution_count": 77,
      "metadata": {
        "id": "4PbAOKMZXc1h",
        "colab": {
          "base_uri": "https://localhost:8080/"
        },
        "outputId": "fe78d225-0dfc-4279-dc9b-f1fee14027f0"
      },
      "outputs": [
        {
          "output_type": "execute_result",
          "data": {
            "text/plain": [
              "(array([0, 1, 4]),)"
            ]
          },
          "metadata": {},
          "execution_count": 77
        }
      ],
      "source": [
        "np.nonzero([1,2,0,0,4,0])"
      ]
    },
    {
      "cell_type": "markdown",
      "metadata": {
        "id": "JkrNi2UMXc1j"
      },
      "source": [
        "#### 11. Create a 3x3 identity matrix (★☆☆) \n",
        "(**hint**: np.eye)"
      ]
    },
    {
      "cell_type": "code",
      "execution_count": 78,
      "metadata": {
        "id": "G7iO_hnoXc1o",
        "colab": {
          "base_uri": "https://localhost:8080/"
        },
        "outputId": "66727c63-ddb2-4613-de6f-8c90be1bd171"
      },
      "outputs": [
        {
          "output_type": "execute_result",
          "data": {
            "text/plain": [
              "array([[1., 0., 0.],\n",
              "       [0., 1., 0.],\n",
              "       [0., 0., 1.]])"
            ]
          },
          "metadata": {},
          "execution_count": 78
        }
      ],
      "source": [
        "np.eye(3)"
      ]
    },
    {
      "cell_type": "markdown",
      "metadata": {
        "id": "N7VzG0HCXc1p"
      },
      "source": [
        "#### 12. Create a 3x3x3 array with random values (★☆☆) \n",
        "(**hint**: np.random.random)"
      ]
    },
    {
      "cell_type": "code",
      "execution_count": 79,
      "metadata": {
        "collapsed": true,
        "id": "N1gNO0RMXc1q",
        "colab": {
          "base_uri": "https://localhost:8080/"
        },
        "outputId": "16701925-0657-4ffd-f887-80b3f8c5d8d2"
      },
      "outputs": [
        {
          "output_type": "execute_result",
          "data": {
            "text/plain": [
              "array([[[0.31021503, 0.76764957, 0.55000591],\n",
              "        [0.13315631, 0.97103652, 0.01625555],\n",
              "        [0.99410697, 0.42552763, 0.730425  ]],\n",
              "\n",
              "       [[0.66644012, 0.27721317, 0.29476332],\n",
              "        [0.45346265, 0.62365472, 0.17441469],\n",
              "        [0.01664533, 0.18382487, 0.59621764]],\n",
              "\n",
              "       [[0.41257954, 0.50691786, 0.72583938],\n",
              "        [0.90769918, 0.7358881 , 0.74958611],\n",
              "        [0.8659317 , 0.50967755, 0.841024  ]]])"
            ]
          },
          "metadata": {},
          "execution_count": 79
        }
      ],
      "source": [
        "np.random.random((3,3,3))"
      ]
    },
    {
      "cell_type": "markdown",
      "metadata": {
        "id": "mSXa0dD2Xc1r"
      },
      "source": [
        "#### 13. Create a 10x10 array with random values and find the minimum and maximum values (★☆☆) \n",
        "(**hint**: min, max)"
      ]
    },
    {
      "cell_type": "code",
      "execution_count": 80,
      "metadata": {
        "id": "7iDgH8teXc1s",
        "colab": {
          "base_uri": "https://localhost:8080/"
        },
        "outputId": "fc686374-8369-4eef-fc31-b7e85e331be5"
      },
      "outputs": [
        {
          "output_type": "execute_result",
          "data": {
            "text/plain": [
              "('minumum of array is ', 0.0009101076776354411)"
            ]
          },
          "metadata": {},
          "execution_count": 80
        }
      ],
      "source": [
        "arr=np.random.random((10,10))\n",
        "arr_min,arr_max=arr.min(),arr.max()\n",
        "\"minumum of array is \",arr_min"
      ]
    },
    {
      "cell_type": "code",
      "source": [
        "\"maximum of array is \",arr_max"
      ],
      "metadata": {
        "colab": {
          "base_uri": "https://localhost:8080/"
        },
        "id": "iSMXM5qWqvN-",
        "outputId": "7f6aef3d-302f-4979-8314-7f54593ef0e6"
      },
      "execution_count": 81,
      "outputs": [
        {
          "output_type": "execute_result",
          "data": {
            "text/plain": [
              "('maximum of array is ', 0.9957656417835338)"
            ]
          },
          "metadata": {},
          "execution_count": 81
        }
      ]
    },
    {
      "cell_type": "markdown",
      "metadata": {
        "id": "HQX2wqvNXc1t"
      },
      "source": [
        "#### 14. Create a random vector of size 30 and find the mean value (★☆☆) \n",
        "(**hint**: mean)"
      ]
    },
    {
      "cell_type": "code",
      "execution_count": 82,
      "metadata": {
        "id": "d79WI-dsXc1u",
        "colab": {
          "base_uri": "https://localhost:8080/"
        },
        "outputId": "d0f82cf6-5b3c-4c30-b9d6-d112e495dc13"
      },
      "outputs": [
        {
          "output_type": "execute_result",
          "data": {
            "text/plain": [
              "('The mean of array is ', 0.5566880096208436)"
            ]
          },
          "metadata": {},
          "execution_count": 82
        }
      ],
      "source": [
        "A=np.random.random(30)\n",
        "B=A.mean()\n",
        "\"The mean of array is \",B"
      ]
    },
    {
      "cell_type": "markdown",
      "metadata": {
        "id": "yalEPBX7Xc1v"
      },
      "source": [
        "#### 15. Create a 2d array with 1 on the border and 0 inside (★☆☆) \n",
        "(**hint**: array\\[1:-1, 1:-1\\])"
      ]
    },
    {
      "cell_type": "code",
      "execution_count": 83,
      "metadata": {
        "id": "VXI7ED-GXc1v",
        "colab": {
          "base_uri": "https://localhost:8080/"
        },
        "outputId": "a43d15f4-9c22-4b0b-9ce8-de1421d760ca"
      },
      "outputs": [
        {
          "output_type": "execute_result",
          "data": {
            "text/plain": [
              "array([[1., 1., 1., 1., 1.],\n",
              "       [1., 0., 0., 0., 1.],\n",
              "       [1., 0., 0., 0., 1.],\n",
              "       [1., 0., 0., 0., 1.],\n",
              "       [1., 1., 1., 1., 1.]])"
            ]
          },
          "metadata": {},
          "execution_count": 83
        }
      ],
      "source": [
        "One_D=np.ones((5,5))\n",
        "One_D[1:-1,1:-1]=0\n",
        "One_D"
      ]
    },
    {
      "cell_type": "markdown",
      "metadata": {
        "id": "B8tMM_G9Xc1w"
      },
      "source": [
        "#### 16. How to add a border (filled with 0's) around an existing array? (★☆☆) \n",
        "(**hint**: np.pad)"
      ]
    },
    {
      "cell_type": "code",
      "execution_count": 84,
      "metadata": {
        "id": "HBEZpmJbXc1x",
        "colab": {
          "base_uri": "https://localhost:8080/"
        },
        "outputId": "6b7788dc-b1ef-47fa-a6c1-09cd6a21860e"
      },
      "outputs": [
        {
          "output_type": "execute_result",
          "data": {
            "text/plain": [
              "array([[0, 0, 0, 0, 0],\n",
              "       [0, 1, 2, 3, 0],\n",
              "       [0, 4, 5, 6, 0],\n",
              "       [0, 7, 8, 9, 0],\n",
              "       [0, 0, 0, 0, 0]])"
            ]
          },
          "metadata": {},
          "execution_count": 84
        }
      ],
      "source": [
        "A=np.arange(1,10).reshape(3,3)\n",
        "A=np.pad(A,pad_width=1,mode='constant',constant_values=0)\n",
        "A"
      ]
    },
    {
      "cell_type": "markdown",
      "metadata": {
        "id": "j5fFVeZ4Xc1x"
      },
      "source": [
        "#### 17. What is the result of the following expression? (★☆☆) \n",
        "(**hint**: NaN = not a number, inf = infinity)"
      ]
    },
    {
      "cell_type": "markdown",
      "metadata": {
        "id": "Ka7sZ6s-Xc1y"
      },
      "source": [
        "```python\n",
        "0 * np.nan\n",
        "np.nan == np.nan\n",
        "np.inf > np.nan\n",
        "np.nan - np.nan\n",
        "0.3 == 3 * 0.1\n",
        "```"
      ]
    },
    {
      "cell_type": "code",
      "execution_count": 85,
      "metadata": {
        "id": "sNAR4kCOXc1z",
        "colab": {
          "base_uri": "https://localhost:8080/"
        },
        "outputId": "7c00d519-2b1e-4347-93cc-01f508845f6c"
      },
      "outputs": [
        {
          "output_type": "stream",
          "name": "stdout",
          "text": [
            "nan\n",
            "False\n",
            "False\n",
            "nan\n"
          ]
        },
        {
          "output_type": "execute_result",
          "data": {
            "text/plain": [
              "False"
            ]
          },
          "metadata": {},
          "execution_count": 85
        }
      ],
      "source": [
        "print(0*np.nan)\n",
        "print(np.nan==np.nan)\n",
        "print(np.inf>np.nan)\n",
        "print(np.nan-np.nan)\n",
        "0.3==3*0.1"
      ]
    },
    {
      "cell_type": "markdown",
      "metadata": {
        "id": "YOsHX4oTXc11"
      },
      "source": [
        "#### 18. Create a 5x5 matrix with values 1,2,3,4 just below the diagonal (★☆☆) \n",
        "(**hint**: np.diag)"
      ]
    },
    {
      "cell_type": "code",
      "execution_count": 86,
      "metadata": {
        "id": "F3vgxTa0Xc12",
        "colab": {
          "base_uri": "https://localhost:8080/"
        },
        "outputId": "12be7341-1c9a-497a-e588-a65ffcdd754a"
      },
      "outputs": [
        {
          "output_type": "execute_result",
          "data": {
            "text/plain": [
              "array([[0, 0, 0, 0, 0],\n",
              "       [1, 0, 0, 0, 0],\n",
              "       [0, 2, 0, 0, 0],\n",
              "       [0, 0, 3, 0, 0],\n",
              "       [0, 0, 0, 4, 0]])"
            ]
          },
          "metadata": {},
          "execution_count": 86
        }
      ],
      "source": [
        "np.diag(np.arange(1,5),k=-1)"
      ]
    },
    {
      "cell_type": "markdown",
      "metadata": {
        "id": "Sc1dDHNYXc13"
      },
      "source": [
        "#### 19. Create a 8x8 matrix and fill it with a checkerboard pattern (★☆☆) \n",
        "(**hint**: array\\[::2\\])"
      ]
    },
    {
      "cell_type": "code",
      "execution_count": 87,
      "metadata": {
        "id": "XRq3c05yXc15",
        "colab": {
          "base_uri": "https://localhost:8080/"
        },
        "outputId": "7aae27ba-3e92-43c9-d8bd-2f2032718ca0"
      },
      "outputs": [
        {
          "output_type": "execute_result",
          "data": {
            "text/plain": [
              "array([[0, 1, 0, 1, 0, 1, 0, 1],\n",
              "       [1, 0, 1, 0, 1, 0, 1, 0],\n",
              "       [0, 1, 0, 1, 0, 1, 0, 1],\n",
              "       [1, 0, 1, 0, 1, 0, 1, 0],\n",
              "       [0, 1, 0, 1, 0, 1, 0, 1],\n",
              "       [1, 0, 1, 0, 1, 0, 1, 0],\n",
              "       [0, 1, 0, 1, 0, 1, 0, 1],\n",
              "       [1, 0, 1, 0, 1, 0, 1, 0]])"
            ]
          },
          "metadata": {},
          "execution_count": 87
        }
      ],
      "source": [
        "X=np.zeros((8,8),dtype=int)\n",
        "X[1::2,::2]=1\n",
        "X[::2,1::2]=1\n",
        "X"
      ]
    },
    {
      "cell_type": "markdown",
      "metadata": {
        "id": "ayxzzoghXc15"
      },
      "source": [
        "#### 20. Consider a (6,7,8) shape array, what is the index (x,y,z) of the 100th element? \n",
        "(**hint**: np.unravel_index)"
      ]
    },
    {
      "cell_type": "code",
      "execution_count": 88,
      "metadata": {
        "id": "R1Z1VWspXc16",
        "colab": {
          "base_uri": "https://localhost:8080/"
        },
        "outputId": "5ed4db13-ead2-4366-abbe-538538dd8984"
      },
      "outputs": [
        {
          "output_type": "execute_result",
          "data": {
            "text/plain": [
              "(1, 5, 3)"
            ]
          },
          "metadata": {},
          "execution_count": 88
        }
      ],
      "source": [
        "np.unravel_index(99,(6,7,8))"
      ]
    },
    {
      "cell_type": "markdown",
      "metadata": {
        "id": "UtpEpPxXXc16"
      },
      "source": [
        "#### 21. Create a checkerboard 8x8 matrix using the tile function (★☆☆) \n",
        "(**hint**: np.tile)"
      ]
    },
    {
      "cell_type": "code",
      "execution_count": 89,
      "metadata": {
        "id": "kvBA5sEYXc17",
        "colab": {
          "base_uri": "https://localhost:8080/"
        },
        "outputId": "165604ef-6c59-40b2-8f87-85614c9a93ee"
      },
      "outputs": [
        {
          "output_type": "execute_result",
          "data": {
            "text/plain": [
              "array([[ 0, 10,  0, 10,  0, 10,  0, 10],\n",
              "       [10,  0, 10,  0, 10,  0, 10,  0],\n",
              "       [ 0, 10,  0, 10,  0, 10,  0, 10],\n",
              "       [10,  0, 10,  0, 10,  0, 10,  0],\n",
              "       [ 0, 10,  0, 10,  0, 10,  0, 10],\n",
              "       [10,  0, 10,  0, 10,  0, 10,  0],\n",
              "       [ 0, 10,  0, 10,  0, 10,  0, 10],\n",
              "       [10,  0, 10,  0, 10,  0, 10,  0]])"
            ]
          },
          "metadata": {},
          "execution_count": 89
        }
      ],
      "source": [
        "a=np.tile(np.array([[0,10],[10,0]]),(4,4))\n",
        "a"
      ]
    },
    {
      "cell_type": "markdown",
      "metadata": {
        "id": "1OJfHqWjXc17"
      },
      "source": [
        "#### 22. Normalize a 5x5 random matrix (★☆☆) \n",
        "(**hint**: (x - min) / (max - min))"
      ]
    },
    {
      "cell_type": "code",
      "execution_count": 90,
      "metadata": {
        "id": "GBcdtV5DXc18",
        "colab": {
          "base_uri": "https://localhost:8080/"
        },
        "outputId": "dc18861c-a6da-4d55-de39-d988ab73c09f"
      },
      "outputs": [
        {
          "output_type": "execute_result",
          "data": {
            "text/plain": [
              "array([[0.15785035, 0.17838749, 0.45826984, 0.88157973, 0.41211268],\n",
              "       [0.68066864, 0.51358789, 0.13588604, 0.62989138, 0.02870388],\n",
              "       [0.15780064, 0.13953165, 0.68097486, 0.25920584, 0.        ],\n",
              "       [0.31669713, 0.618445  , 0.02953302, 1.        , 0.81990442],\n",
              "       [0.88677208, 0.8512623 , 0.9829818 , 0.22566774, 0.18439704]])"
            ]
          },
          "metadata": {},
          "execution_count": 90
        }
      ],
      "source": [
        "arr=np.random.random((5,5))\n",
        "nor=(arr-np.min(arr))/(np.max(arr)-np.min(arr))\n",
        "nor"
      ]
    },
    {
      "cell_type": "markdown",
      "metadata": {
        "id": "5stFovHJXc19"
      },
      "source": [
        "#### 23. Create a custom dtype that describes a color as four unsigned bytes (RGBA) (★☆☆) \n",
        "(**hint**: np.dtype)"
      ]
    },
    {
      "cell_type": "code",
      "execution_count": 91,
      "metadata": {
        "id": "ZkS5DN91Xc19",
        "colab": {
          "base_uri": "https://localhost:8080/"
        },
        "outputId": "a045a215-48af-41cf-87a3-477cf990a2ed"
      },
      "outputs": [
        {
          "output_type": "stream",
          "name": "stderr",
          "text": [
            "/usr/local/lib/python3.7/dist-packages/ipykernel_launcher.py:1: FutureWarning: Passing (type, 1) or '1type' as a synonym of type is deprecated; in a future version of numpy, it will be understood as (type, (1,)) / '(1,)type'.\n",
            "  \"\"\"Entry point for launching an IPython kernel.\n"
          ]
        }
      ],
      "source": [
        "color=np.dtype([(\"R\",np.ubyte,1),(\"G\",np.ubyte,1),(\"B\",np.ubyte,1),(\"A\",np.ubyte,1)])"
      ]
    },
    {
      "cell_type": "markdown",
      "metadata": {
        "id": "nlPLSoIaXc1-"
      },
      "source": [
        "#### 24. Multiply a 5x3 matrix by a 3x2 matrix (real matrix product) (★☆☆) \n",
        "(**hint**: np.dot | @)"
      ]
    },
    {
      "cell_type": "code",
      "execution_count": 92,
      "metadata": {
        "id": "N5kyCzXBXc1-",
        "colab": {
          "base_uri": "https://localhost:8080/"
        },
        "outputId": "1393957b-816f-4b9b-a81c-da93f13aa4ce"
      },
      "outputs": [
        {
          "output_type": "execute_result",
          "data": {
            "text/plain": [
              "array([[3., 3.],\n",
              "       [3., 3.],\n",
              "       [3., 3.],\n",
              "       [3., 3.],\n",
              "       [3., 3.]])"
            ]
          },
          "metadata": {},
          "execution_count": 92
        }
      ],
      "source": [
        "product=np.dot(np.ones((5,3)),np.ones((3,2)))\n",
        "product"
      ]
    },
    {
      "cell_type": "markdown",
      "metadata": {
        "id": "JZXgTKAeXc1_"
      },
      "source": [
        "#### 25. Given a 1D array, negate all elements which are between 3 and 8, in place. (★☆☆) \n",
        "(**hint**: >, <=)"
      ]
    },
    {
      "cell_type": "code",
      "execution_count": 93,
      "metadata": {
        "id": "CP34hvTrXc1_",
        "colab": {
          "base_uri": "https://localhost:8080/"
        },
        "outputId": "cf7b4443-db9f-4473-82ac-208c3a6f3349"
      },
      "outputs": [
        {
          "output_type": "execute_result",
          "data": {
            "text/plain": [
              "array([ 0,  1,  2,  3, -4, -5, -6, -7, -8,  9, 10])"
            ]
          },
          "metadata": {},
          "execution_count": 93
        }
      ],
      "source": [
        "arr=np.arange(11)\n",
        "arr[(arr>3)&(arr<=8)]*=-1\n",
        "arr"
      ]
    },
    {
      "cell_type": "markdown",
      "metadata": {
        "id": "3EBSCnW5Xc2A"
      },
      "source": [
        "#### 26. What is the output of the following script? (★☆☆) \n",
        "(**hint**: np.sum)"
      ]
    },
    {
      "cell_type": "markdown",
      "metadata": {
        "id": "UQfdgGX8Xc2A"
      },
      "source": [
        "```python\n",
        "# Author: Jake VanderPlas\n",
        "\n",
        "print(sum(range(5),-1))\n",
        "from numpy import *\n",
        "print(sum(range(5),-1))\n",
        "```"
      ]
    },
    {
      "cell_type": "code",
      "execution_count": 94,
      "metadata": {
        "id": "lcq5hySsXc2B",
        "colab": {
          "base_uri": "https://localhost:8080/"
        },
        "outputId": "270dcd32-1d1f-4b11-c327-1b8bbe31ab6b"
      },
      "outputs": [
        {
          "output_type": "stream",
          "name": "stdout",
          "text": [
            "9\n",
            "10\n"
          ]
        }
      ],
      "source": [
        "# Author: Jake vanderPlas\n",
        "print(sum(range(5),-1))\n",
        "from numpy import *\n",
        "print(sum(range(5),-1))"
      ]
    },
    {
      "cell_type": "markdown",
      "metadata": {
        "id": "Y50FzNyVXc2B"
      },
      "source": [
        "#### 27. Consider an integer vector Z, which of these expressions are legal? (★☆☆)"
      ]
    },
    {
      "cell_type": "markdown",
      "metadata": {
        "id": "c8sHcHcQXc2C"
      },
      "source": [
        "```python\n",
        "Z**Z\n",
        "2 << Z >> 2\n",
        "Z <- Z\n",
        "1j*Z\n",
        "Z/1/1\n",
        "Z<Z>Z\n",
        "```"
      ]
    },
    {
      "cell_type": "code",
      "execution_count": 98,
      "metadata": {
        "id": "Fp7dj0RbXc2D",
        "colab": {
          "base_uri": "https://localhost:8080/",
          "height": 227
        },
        "outputId": "df0d3101-0801-45ab-d205-eca669d747a3"
      },
      "outputs": [
        {
          "output_type": "error",
          "ename": "ValueError",
          "evalue": "ignored",
          "traceback": [
            "\u001b[0;31m---------------------------------------------------------------------------\u001b[0m",
            "\u001b[0;31mValueError\u001b[0m                                Traceback (most recent call last)",
            "\u001b[0;32m<ipython-input-98-2ceb2e56ec33>\u001b[0m in \u001b[0;36m<module>\u001b[0;34m\u001b[0m\n\u001b[1;32m      3\u001b[0m \u001b[0;36m1j\u001b[0m\u001b[0;34m*\u001b[0m\u001b[0marr\u001b[0m\u001b[0;34m\u001b[0m\u001b[0;34m\u001b[0m\u001b[0m\n\u001b[1;32m      4\u001b[0m \u001b[0marr\u001b[0m\u001b[0;34m/\u001b[0m\u001b[0;36m1\u001b[0m\u001b[0;34m/\u001b[0m\u001b[0;36m1\u001b[0m\u001b[0;34m\u001b[0m\u001b[0;34m\u001b[0m\u001b[0m\n\u001b[0;32m----> 5\u001b[0;31m \u001b[0marr\u001b[0m\u001b[0;34m<\u001b[0m\u001b[0marr\u001b[0m\u001b[0;34m>\u001b[0m\u001b[0marr\u001b[0m\u001b[0;34m\u001b[0m\u001b[0;34m\u001b[0m\u001b[0m\n\u001b[0m\u001b[1;32m      6\u001b[0m \u001b[0marr\u001b[0m\u001b[0;34m**\u001b[0m\u001b[0marr\u001b[0m\u001b[0;34m\u001b[0m\u001b[0;34m\u001b[0m\u001b[0m\n",
            "\u001b[0;31mValueError\u001b[0m: The truth value of an array with more than one element is ambiguous. Use a.any() or a.all()"
          ]
        }
      ],
      "source": [
        "2<<arr>>2\n",
        "arr<-arr\n",
        "1j*arr\n",
        "arr/1/1\n",
        "arr<arr>arr\n",
        "arr**arr"
      ]
    },
    {
      "cell_type": "markdown",
      "metadata": {
        "id": "o1vDD_bqXc2D"
      },
      "source": [
        "#### 28. What are the result of the following expressions?"
      ]
    },
    {
      "cell_type": "markdown",
      "metadata": {
        "id": "XFVOF8GnXc2D"
      },
      "source": [
        "```python\n",
        "np.array(0) / np.array(0)\n",
        "np.array(0) // np.array(0)\n",
        "np.array([np.nan]).astype(int).astype(float)\n",
        "```"
      ]
    },
    {
      "cell_type": "code",
      "execution_count": 99,
      "metadata": {
        "id": "XYftaswkXc2E",
        "colab": {
          "base_uri": "https://localhost:8080/"
        },
        "outputId": "bca1e0b9-2b7b-437b-eeac-82414e10b48b"
      },
      "outputs": [
        {
          "output_type": "stream",
          "name": "stdout",
          "text": [
            "nan\n",
            "0\n",
            "[-9.22337204e+18]\n"
          ]
        },
        {
          "output_type": "stream",
          "name": "stderr",
          "text": [
            "/usr/local/lib/python3.7/dist-packages/ipykernel_launcher.py:1: RuntimeWarning: invalid value encountered in true_divide\n",
            "  \"\"\"Entry point for launching an IPython kernel.\n",
            "/usr/local/lib/python3.7/dist-packages/ipykernel_launcher.py:2: RuntimeWarning: divide by zero encountered in floor_divide\n",
            "  \n"
          ]
        }
      ],
      "source": [
        "print(np.array(0) / np.array(0))\n",
        "print(np.array(0) // np.array(0))\n",
        "print(np.array([np.nan]).astype(int).astype(float))"
      ]
    },
    {
      "cell_type": "markdown",
      "metadata": {
        "id": "7uUawFAaXc2E"
      },
      "source": [
        "#### 29. How to round away from zero a float array ? (★☆☆) \n",
        "(**hint**: np.uniform, np.copysign, np.ceil, np.abs)"
      ]
    },
    {
      "cell_type": "code",
      "execution_count": 100,
      "metadata": {
        "id": "pMMiNQDZXc2F",
        "colab": {
          "base_uri": "https://localhost:8080/"
        },
        "outputId": "6059c74b-35e1-44ed-b4a7-e959903ea053"
      },
      "outputs": [
        {
          "output_type": "stream",
          "name": "stdout",
          "text": [
            "[ -4.   7. -10.   1.  -4.   7.  -2.  -4.  10.   3.]\n"
          ]
        }
      ],
      "source": [
        "arr=np.random.uniform(-10,+10,10)\n",
        "print(np.copysign(np.ceil(np.abs(arr)),arr))"
      ]
    },
    {
      "cell_type": "markdown",
      "metadata": {
        "id": "mPA2_kF7Xc2F"
      },
      "source": [
        "#### 30. How to find common values between two arrays? (★☆☆) \n",
        "(**hint**: np.intersect1d)"
      ]
    },
    {
      "cell_type": "code",
      "execution_count": 101,
      "metadata": {
        "id": "rZCr9rysXc2G",
        "colab": {
          "base_uri": "https://localhost:8080/"
        },
        "outputId": "84e011b5-ebf8-4c86-a1b9-5f352d1f5cab"
      },
      "outputs": [
        {
          "output_type": "execute_result",
          "data": {
            "text/plain": [
              "array([0, 2, 5])"
            ]
          },
          "metadata": {},
          "execution_count": 101
        }
      ],
      "source": [
        "arr1=np.random.randint(0,8,8)\n",
        "arr2=np.random.randint(0,7,7)\n",
        "np.intersect1d(arr1,arr2)"
      ]
    },
    {
      "cell_type": "markdown",
      "metadata": {
        "id": "lxHs0RtWXc2G"
      },
      "source": [
        "#### 31. How to ignore all numpy warnings (not recommended)? (★☆☆) \n",
        "(**hint**: np.seterr, np.errstate)"
      ]
    },
    {
      "cell_type": "code",
      "execution_count": 105,
      "metadata": {
        "id": "l5lPNHnLXc2H"
      },
      "outputs": [],
      "source": [
        "ignore=np.seterr(all=\"ignore\")\n",
        "arr=np.ones(1)/0\n",
        "with np.errstate(all=\"ignore\"):np.arange(3)/0\n",
        "\n"
      ]
    },
    {
      "cell_type": "markdown",
      "metadata": {
        "id": "uh1iCsMAXc2I"
      },
      "source": [
        "#### 32. Is the following expressions true? (★☆☆) \n",
        "(**hint**: imaginary number)"
      ]
    },
    {
      "cell_type": "markdown",
      "metadata": {
        "id": "1LslWRMnXc2I"
      },
      "source": [
        "```python\n",
        "np.sqrt(-1) == np.emath.sqrt(-1)\n",
        "```"
      ]
    },
    {
      "cell_type": "code",
      "execution_count": 103,
      "metadata": {
        "id": "xVp_Z6JHXc2J",
        "colab": {
          "base_uri": "https://localhost:8080/"
        },
        "outputId": "52fd3355-73fd-4e73-8b85-9badce822b6f"
      },
      "outputs": [
        {
          "output_type": "execute_result",
          "data": {
            "text/plain": [
              "False"
            ]
          },
          "metadata": {},
          "execution_count": 103
        }
      ],
      "source": [
        "np.sqrt(-1)==np.emath.sqrt(-1)"
      ]
    },
    {
      "cell_type": "markdown",
      "metadata": {
        "id": "Bpu_EPjOXc2J"
      },
      "source": [
        "#### 33. How to get the dates of yesterday, today and tomorrow? (★☆☆) \n",
        "(**hint**: np.datetime64, np.timedelta64)"
      ]
    },
    {
      "cell_type": "code",
      "execution_count": 106,
      "metadata": {
        "collapsed": true,
        "id": "s_AmC-uwXc2K",
        "colab": {
          "base_uri": "https://localhost:8080/"
        },
        "outputId": "5b690ef9-a147-4715-8fb2-254f8484940f"
      },
      "outputs": [
        {
          "output_type": "stream",
          "name": "stdout",
          "text": [
            "2022-11-28 2022-11-29 2022-11-30\n"
          ]
        }
      ],
      "source": [
        "yesterday=np.datetime64('today')-np.timedelta64(1)\n",
        "today=np.datetime64('today')\n",
        "tomorrow= np.datetime64('today')+np.timedelta64(1)\n",
        "print(yesterday,today,tomorrow)\n"
      ]
    },
    {
      "cell_type": "markdown",
      "metadata": {
        "id": "1Hmmrg8UXc2K"
      },
      "source": [
        "#### 34. How to get all the dates corresponding to the month of July 2016? (★★☆) \n",
        "(**hint**: np.arange(dtype=datetime64\\['D'\\]))"
      ]
    },
    {
      "cell_type": "code",
      "execution_count": 107,
      "metadata": {
        "id": "fAlC9RLSXc2L",
        "colab": {
          "base_uri": "https://localhost:8080/"
        },
        "outputId": "6efc3904-846c-4c68-99ed-aa8be294016f"
      },
      "outputs": [
        {
          "output_type": "execute_result",
          "data": {
            "text/plain": [
              "array(['2016-07-01', '2016-07-02', '2016-07-03', '2016-07-04',\n",
              "       '2016-07-05', '2016-07-06', '2016-07-07', '2016-07-08',\n",
              "       '2016-07-09', '2016-07-10', '2016-07-11', '2016-07-12',\n",
              "       '2016-07-13', '2016-07-14', '2016-07-15', '2016-07-16',\n",
              "       '2016-07-17', '2016-07-18', '2016-07-19', '2016-07-20',\n",
              "       '2016-07-21', '2016-07-22', '2016-07-23', '2016-07-24',\n",
              "       '2016-07-25', '2016-07-26', '2016-07-27', '2016-07-28',\n",
              "       '2016-07-29', '2016-07-30', '2016-07-31'], dtype='datetime64[D]')"
            ]
          },
          "metadata": {},
          "execution_count": 107
        }
      ],
      "source": [
        "date=np.arange('2016-07','2016-08',dtype='datetime64[D]')\n",
        "date"
      ]
    },
    {
      "cell_type": "markdown",
      "metadata": {
        "id": "cZ_9g1PXXc2L"
      },
      "source": [
        "#### 35. How to compute ((A+B)\\*(-A/2)) in place (without copy)? (★★☆) \n",
        "(**hint**: np.add(out=), np.negative(out=), np.multiply(out=), np.divide(out=))"
      ]
    },
    {
      "cell_type": "code",
      "execution_count": 108,
      "metadata": {
        "id": "lGSofcK1Xc2M",
        "colab": {
          "base_uri": "https://localhost:8080/"
        },
        "outputId": "7348473d-b499-4e8f-e018-46466312aaf6"
      },
      "outputs": [
        {
          "output_type": "execute_result",
          "data": {
            "text/plain": [
              "array([-1.5, -1.5, -1.5, -1.5])"
            ]
          },
          "metadata": {},
          "execution_count": 108
        }
      ],
      "source": [
        "A=np.ones(4)*1\n",
        "B=np.ones(4)*2\n",
        "np.add(A,B,out=B)\n",
        "np.divide(A,2,out=A)\n",
        "np.negative(A,out=A)\n",
        "np.multiply(A,B,out=A)"
      ]
    },
    {
      "cell_type": "markdown",
      "metadata": {
        "id": "qjBtUZHGXc2M"
      },
      "source": [
        "#### 36. Extract the integer part of a random array using 5 different methods (★★☆) \n",
        "(**hint**: %, np.floor, np.ceil, astype, np.trunc)"
      ]
    },
    {
      "cell_type": "code",
      "execution_count": 109,
      "metadata": {
        "id": "0ik3yHJ2Xc2N",
        "colab": {
          "base_uri": "https://localhost:8080/"
        },
        "outputId": "261b8678-bb58-42ac-d609-7b3f465ff7ae"
      },
      "outputs": [
        {
          "output_type": "stream",
          "name": "stdout",
          "text": [
            "[8. 1. 4. 1. 2. 2. 8. 3. 8. 7.]\n",
            "[8. 1. 4. 1. 2. 2. 8. 3. 8. 7.]\n",
            "[8. 1. 4. 1. 2. 2. 8. 3. 8. 7.]\n",
            "[8 1 4 1 2 2 8 3 8 7]\n",
            "[8. 1. 4. 1. 2. 2. 8. 3. 8. 7.]\n"
          ]
        }
      ],
      "source": [
        "arr=np.random.uniform(0,10,10)\n",
        "print(arr-arr%1)\n",
        "print(arr//1)\n",
        "print(np.floor(arr))\n",
        "print(arr.astype(int))\n",
        "print(np.trunc(arr))"
      ]
    },
    {
      "cell_type": "markdown",
      "metadata": {
        "id": "CjUN-ApWXc2N"
      },
      "source": [
        "#### 37. Create a 5x5 matrix with row values ranging from 0 to 4 (★★☆) \n",
        "(**hint**: np.arange)"
      ]
    },
    {
      "cell_type": "code",
      "execution_count": 110,
      "metadata": {
        "id": "LRPfIvIVXc2O",
        "colab": {
          "base_uri": "https://localhost:8080/"
        },
        "outputId": "95e0a624-638d-402f-b7f8-22b60c1dad1d"
      },
      "outputs": [
        {
          "output_type": "execute_result",
          "data": {
            "text/plain": [
              "array([[0, 1, 2, 3, 4],\n",
              "       [0, 1, 2, 3, 4],\n",
              "       [0, 1, 2, 3, 4],\n",
              "       [0, 1, 2, 3, 4],\n",
              "       [0, 1, 2, 3, 4]])"
            ]
          },
          "metadata": {},
          "execution_count": 110
        }
      ],
      "source": [
        "arr=np.tile(np.arange(0,5),(5,1))\n",
        "arr"
      ]
    },
    {
      "cell_type": "markdown",
      "metadata": {
        "id": "obgQczORXc2P"
      },
      "source": [
        "#### 38. Consider a generator function that generates 10 integers and use it to build an array (★☆☆) \n",
        "(**hint**: np.fromiter)"
      ]
    },
    {
      "cell_type": "code",
      "execution_count": 111,
      "metadata": {
        "id": "qdN3iSZOXc2P",
        "colab": {
          "base_uri": "https://localhost:8080/"
        },
        "outputId": "7f3c0e3f-fa15-4951-f561-b19a388e8db2"
      },
      "outputs": [
        {
          "output_type": "execute_result",
          "data": {
            "text/plain": [
              "array([0., 1., 2., 3., 4., 5., 6., 7., 8., 9.])"
            ]
          },
          "metadata": {},
          "execution_count": 111
        }
      ],
      "source": [
        "def generator():\n",
        "  for i in range(10):\n",
        "    yield i\n",
        "arr=np.fromiter(generator(),dtype=float,count=-1)\n",
        "arr"
      ]
    },
    {
      "cell_type": "markdown",
      "metadata": {
        "id": "NHRYGrVTXc2Q"
      },
      "source": [
        "#### 39. Create a vector of size 10 with values ranging from 0 to 1, both excluded (★★☆) \n",
        "(**hint**: np.linspace)"
      ]
    },
    {
      "cell_type": "code",
      "execution_count": 112,
      "metadata": {
        "id": "uQt2roGSXc2Q",
        "colab": {
          "base_uri": "https://localhost:8080/"
        },
        "outputId": "2f12920a-82a4-4a48-a39e-3886a9ab261c"
      },
      "outputs": [
        {
          "output_type": "execute_result",
          "data": {
            "text/plain": [
              "array([0.1 , 0.19, 0.28, 0.37, 0.46, 0.55, 0.64, 0.73, 0.82, 0.91])"
            ]
          },
          "metadata": {},
          "execution_count": 112
        }
      ],
      "source": [
        "arr=np.linspace(0.1,1,10,endpoint=False)\n",
        "arr"
      ]
    },
    {
      "cell_type": "markdown",
      "metadata": {
        "id": "EpDPI6fbXc2R"
      },
      "source": [
        "#### 40. Create a random vector of size 10 and sort it (★★☆) \n",
        "(**hint**: sort)"
      ]
    },
    {
      "cell_type": "code",
      "execution_count": 113,
      "metadata": {
        "id": "Oqq51PuVXc2S",
        "colab": {
          "base_uri": "https://localhost:8080/"
        },
        "outputId": "ca2c6772-dad9-4234-b45b-e544702d7500"
      },
      "outputs": [
        {
          "output_type": "execute_result",
          "data": {
            "text/plain": [
              "array([0, 0, 0, 0, 0, 0, 0, 0, 0, 0])"
            ]
          },
          "metadata": {},
          "execution_count": 113
        }
      ],
      "source": [
        "arr=np.random.randint(0,1,10)\n",
        "arr.sort()\n",
        "arr"
      ]
    },
    {
      "cell_type": "markdown",
      "metadata": {
        "id": "bZy3k6DBXc2S"
      },
      "source": [
        "#### 41. How to sum a small array faster than np.sum? (★★☆) \n",
        "(**hint**: np.add.reduce)"
      ]
    },
    {
      "cell_type": "code",
      "execution_count": 114,
      "metadata": {
        "id": "OaPVLoX3Xc2S",
        "colab": {
          "base_uri": "https://localhost:8080/"
        },
        "outputId": "a84368ac-c958-4cef-f815-b94849f03d81"
      },
      "outputs": [
        {
          "output_type": "execute_result",
          "data": {
            "text/plain": [
              "105"
            ]
          },
          "metadata": {},
          "execution_count": 114
        }
      ],
      "source": [
        "arr=np.arange(15)\n",
        "np.add.reduce(arr)"
      ]
    },
    {
      "cell_type": "markdown",
      "metadata": {
        "id": "cMCZ9Dq_Xc2T"
      },
      "source": [
        "#### 42. Consider two random array A and B, check if they are equal (★★☆) \n",
        "(**hint**: np.allclose, np.array\\_equal)"
      ]
    },
    {
      "cell_type": "code",
      "execution_count": 115,
      "metadata": {
        "id": "MWYpWtbfXc2T",
        "colab": {
          "base_uri": "https://localhost:8080/"
        },
        "outputId": "8feec758-a323-4df7-c4eb-05941fd8142d"
      },
      "outputs": [
        {
          "output_type": "stream",
          "name": "stdout",
          "text": [
            "False\n",
            "False\n"
          ]
        }
      ],
      "source": [
        "A=np.random.randint(0,2,10)\n",
        "B=np.random.randint(0,2,10)\n",
        "print(np.allclose(A,B))\n",
        "print(np.array_equal(A,B))"
      ]
    },
    {
      "cell_type": "markdown",
      "metadata": {
        "id": "upIw6zWPXc2U"
      },
      "source": [
        "#### 43. Make an array immutable (read-only) (★★☆) \n",
        "(**hint**: flags.writeable)"
      ]
    },
    {
      "cell_type": "code",
      "execution_count": 116,
      "metadata": {
        "id": "DwSrgi5BXc2U",
        "colab": {
          "base_uri": "https://localhost:8080/",
          "height": 227
        },
        "outputId": "7fd0b843-ccf2-4fde-dcbc-04fb096ebac7"
      },
      "outputs": [
        {
          "output_type": "error",
          "ename": "ValueError",
          "evalue": "ignored",
          "traceback": [
            "\u001b[0;31m---------------------------------------------------------------------------\u001b[0m",
            "\u001b[0;31mValueError\u001b[0m                                Traceback (most recent call last)",
            "\u001b[0;32m<ipython-input-116-6578d9e635b1>\u001b[0m in \u001b[0;36m<module>\u001b[0;34m\u001b[0m\n\u001b[1;32m      1\u001b[0m \u001b[0marr\u001b[0m\u001b[0;34m=\u001b[0m\u001b[0mnp\u001b[0m\u001b[0;34m.\u001b[0m\u001b[0mones\u001b[0m\u001b[0;34m(\u001b[0m\u001b[0;36m10\u001b[0m\u001b[0;34m)\u001b[0m\u001b[0;34m\u001b[0m\u001b[0;34m\u001b[0m\u001b[0m\n\u001b[1;32m      2\u001b[0m \u001b[0marr\u001b[0m\u001b[0;34m.\u001b[0m\u001b[0mflags\u001b[0m\u001b[0;34m.\u001b[0m\u001b[0mwriteable\u001b[0m\u001b[0;34m=\u001b[0m\u001b[0;32mFalse\u001b[0m\u001b[0;34m\u001b[0m\u001b[0;34m\u001b[0m\u001b[0m\n\u001b[0;32m----> 3\u001b[0;31m \u001b[0marr\u001b[0m\u001b[0;34m[\u001b[0m\u001b[0;36m1\u001b[0m\u001b[0;34m]\u001b[0m\u001b[0;34m=\u001b[0m\u001b[0;36m3\u001b[0m\u001b[0;34m\u001b[0m\u001b[0;34m\u001b[0m\u001b[0m\n\u001b[0m\u001b[1;32m      4\u001b[0m \u001b[0marr\u001b[0m\u001b[0;34m\u001b[0m\u001b[0;34m\u001b[0m\u001b[0m\n",
            "\u001b[0;31mValueError\u001b[0m: assignment destination is read-only"
          ]
        }
      ],
      "source": [
        "arr=np.ones(10)\n",
        "arr.flags.writeable=False\n",
        "arr[1]=3\n",
        "arr"
      ]
    },
    {
      "cell_type": "markdown",
      "metadata": {
        "id": "wuHpXP-gXc2V"
      },
      "source": [
        "#### 44. Consider a random 10x2 matrix representing cartesian coordinates, convert them to polar coordinates (★★☆) \n",
        "(**hint**: np.sqrt, np.arctan2)"
      ]
    },
    {
      "cell_type": "code",
      "execution_count": 117,
      "metadata": {
        "id": "iSJ_VUkYXc2V",
        "colab": {
          "base_uri": "https://localhost:8080/"
        },
        "outputId": "d72d6cb3-3b7c-4b6a-a3dc-054bc7037824"
      },
      "outputs": [
        {
          "output_type": "stream",
          "name": "stdout",
          "text": [
            "[0.82280268 0.42270753 0.58963412 0.8868455  0.95034586 0.36294145\n",
            " 0.69642563 0.56598864 0.73522382 1.25709806]\n",
            "[0.05844124 1.15129611 1.06153863 1.51285182 0.61331709 0.72495876\n",
            " 1.43527001 0.10565405 0.76102806 0.82325514]\n"
          ]
        }
      ],
      "source": [
        "arr=np.random.random((10,2))\n",
        "a,b=arr[:,0],arr[:,1]\n",
        "r=np.sqrt(a*a+b*b)\n",
        "t=np.arctan2(b,a)\n",
        "print(r)\n",
        "print(t)"
      ]
    },
    {
      "cell_type": "markdown",
      "metadata": {
        "id": "4Ws8TH4WXc2V"
      },
      "source": [
        "#### 45. Create random vector of size 10 and replace the maximum value by 0 (★★☆) \n",
        "(**hint**: argmax)"
      ]
    },
    {
      "cell_type": "code",
      "execution_count": 118,
      "metadata": {
        "id": "2iSzvGXXXc2W",
        "colab": {
          "base_uri": "https://localhost:8080/"
        },
        "outputId": "a2410b71-852c-40b5-a134-2f979ede4185"
      },
      "outputs": [
        {
          "output_type": "execute_result",
          "data": {
            "text/plain": [
              "array([0.46955664, 0.67324839, 0.3356703 , 0.36434537, 0.68380179,\n",
              "       0.66008388, 0.0243612 , 0.78025931, 0.12115207, 0.        ])"
            ]
          },
          "metadata": {},
          "execution_count": 118
        }
      ],
      "source": [
        "arr=np.random.random(10)\n",
        "arr[arr.argmax()]=0\n",
        "arr"
      ]
    },
    {
      "cell_type": "markdown",
      "metadata": {
        "id": "J8H1cU7VXc2X"
      },
      "source": [
        "#### 46. Create a structured array with `x` and `y` coordinates covering the \\[0,1\\]x\\[0,1\\] area (★★☆) \n",
        "(**hint**: np.meshgrid)"
      ]
    },
    {
      "cell_type": "code",
      "execution_count": 119,
      "metadata": {
        "id": "ujHIfAP2Xc2X",
        "colab": {
          "base_uri": "https://localhost:8080/"
        },
        "outputId": "14bfefe8-3661-4b80-f843-892562b5bac2"
      },
      "outputs": [
        {
          "output_type": "execute_result",
          "data": {
            "text/plain": [
              "array([[(0, 0.  ), (0, 0.  ), (0, 0.  ), (0, 0.  ), (1, 0.  )],\n",
              "       [(0, 0.25), (0, 0.25), (0, 0.25), (0, 0.25), (1, 0.25)],\n",
              "       [(0, 0.5 ), (0, 0.5 ), (0, 0.5 ), (0, 0.5 ), (1, 0.5 )],\n",
              "       [(0, 0.75), (0, 0.75), (0, 0.75), (0, 0.75), (1, 0.75)],\n",
              "       [(0, 1.  ), (0, 1.  ), (0, 1.  ), (0, 1.  ), (1, 1.  )]],\n",
              "      dtype=[('x', '<i8'), ('y', '<f8')])"
            ]
          },
          "metadata": {},
          "execution_count": 119
        }
      ],
      "source": [
        "arr=np.zeros((5,5),[('x',int),('y',float)])\n",
        "arr['x'],arr['y']=np.meshgrid(np.linspace(0,1,5),np.linspace(0,1,5))\n",
        "arr"
      ]
    },
    {
      "cell_type": "markdown",
      "metadata": {
        "id": "ztthAJwSXc2X"
      },
      "source": [
        "####  47. Given two arrays, X and Y, construct the Cauchy matrix C (Cij =1/(xi - yj)) \n",
        "(**hint**: np.subtract.outer)"
      ]
    },
    {
      "cell_type": "code",
      "execution_count": 120,
      "metadata": {
        "id": "nnagX8v4Xc2Y",
        "colab": {
          "base_uri": "https://localhost:8080/"
        },
        "outputId": "582dfcbc-9b2e-4af8-fb32-ace9e605e077"
      },
      "outputs": [
        {
          "output_type": "stream",
          "name": "stdout",
          "text": [
            "[[   3.29596322    2.69934823    4.02537483    1.94182219    3.05670584\n",
            "     1.07602115    2.30837739    2.25006146]\n",
            " [  -3.05286092   -3.83872381   -2.61411275   -8.62196584   -3.29149328\n",
            "     3.35135552   -5.05667747   -5.36104674]\n",
            " [  -2.28415515   -2.69730607   -2.02931959   -4.42047829   -2.4151643\n",
            "     5.31491705   -3.2468023    -3.36963813]\n",
            " [   3.70656735    2.96868257    4.65518946    2.07740335    3.40669623\n",
            "     1.11639573    2.50253578    2.43414268]\n",
            " [  -1.63029928   -1.8304091    -1.49619588   -2.48876606   -1.69596104\n",
            "    79.59240959   -2.06790579   -2.11705874]\n",
            " [  -1.70662584   -1.92717899   -1.56023549   -2.67113458   -1.7787157\n",
            "    25.00199691   -2.19226981   -2.24759175]\n",
            " [   3.36501838    2.74549117    4.12885626    1.96558665    3.11600912\n",
            "     1.08327865    2.3420384     2.28203144]\n",
            " [  -4.59271922   -6.63668752   -3.66685445 -162.41240152   -5.15496317\n",
            "     2.44970516  -11.37234046  -13.03694751]]\n"
          ]
        }
      ],
      "source": [
        "x=np.random.random(8)\n",
        "y=np.random.random(8)\n",
        "C=1/np.subtract.outer(x,y)\n",
        "print(C)"
      ]
    },
    {
      "cell_type": "markdown",
      "metadata": {
        "id": "LEakDhKEXc2Y"
      },
      "source": [
        "#### 48. Print the minimum and maximum representable value for each numpy scalar type (★★☆) \n",
        "(**hint**: np.iinfo, np.finfo, eps)"
      ]
    },
    {
      "cell_type": "code",
      "execution_count": 121,
      "metadata": {
        "id": "E1cxqKOjXc2Z",
        "colab": {
          "base_uri": "https://localhost:8080/"
        },
        "outputId": "f83ea3da-def6-4331-f9ff-f8d8360518a5"
      },
      "outputs": [
        {
          "output_type": "stream",
          "name": "stdout",
          "text": [
            "-128\n",
            "127\n",
            "-2147483648\n",
            "2147483647\n",
            "-9223372036854775808\n",
            "9223372036854775807\n",
            "-3.4028235e+38\n",
            "3.4028235e+38\n",
            "1.1920929e-07\n",
            "-1.7976931348623157e+308\n",
            "1.7976931348623157e+308\n",
            "2.220446049250313e-16\n"
          ]
        }
      ],
      "source": [
        "int_dtype=[np.int8,np.int32,np.int64]\n",
        "float_dtype=[np.float32,np.float64]\n",
        "for i in int_dtype:\n",
        "  print(np.iinfo(i).min)\n",
        "  print(np.iinfo(i).max)\n",
        "for j in float_dtype:\n",
        "  print(np.finfo(j).min)\n",
        "  print(np.finfo(j).max)\n",
        "  print(np.finfo(j).eps)\n",
        "  \n",
        "  "
      ]
    },
    {
      "cell_type": "markdown",
      "metadata": {
        "id": "CkCUB4YKXc2a"
      },
      "source": [
        "#### 49. How to print all the values of an array? (★★☆) \n",
        "(**hint**: np.set\\_printoptions)"
      ]
    },
    {
      "cell_type": "code",
      "execution_count": 122,
      "metadata": {
        "id": "ah3tRNRXXc2b",
        "colab": {
          "base_uri": "https://localhost:8080/"
        },
        "outputId": "962331fe-8abd-4904-d531-8b14e2073fd3"
      },
      "outputs": [
        {
          "output_type": "execute_result",
          "data": {
            "text/plain": [
              "array([1., 1., 1., 1., 1., 1., 1., 1., 1., 1.])"
            ]
          },
          "metadata": {},
          "execution_count": 122
        }
      ],
      "source": [
        "arr=np.ones(10)\n",
        "np.set_printoptions()\n",
        "arr"
      ]
    },
    {
      "cell_type": "markdown",
      "metadata": {
        "id": "41BpvN5eXc2b"
      },
      "source": [
        "#### 50. How to find the closest value (to a given scalar) in a vector? (★★☆) \n",
        "(**hint**: argmin)"
      ]
    },
    {
      "cell_type": "code",
      "execution_count": 123,
      "metadata": {
        "id": "_MwGf0glXc2c",
        "colab": {
          "base_uri": "https://localhost:8080/"
        },
        "outputId": "0f8a96ec-ae23-4bc8-f999-8d40049c8d48"
      },
      "outputs": [
        {
          "output_type": "execute_result",
          "data": {
            "text/plain": [
              "7"
            ]
          },
          "metadata": {},
          "execution_count": 123
        }
      ],
      "source": [
        "arr=np.arange(50)\n",
        "v=np.random.uniform(0,50)\n",
        "i=(np.abs(arr-v)).argmin()\n",
        "arr[i]"
      ]
    },
    {
      "cell_type": "markdown",
      "metadata": {
        "id": "8pI_PXqIXc2c"
      },
      "source": [
        "#### 51. Create a structured array representing a position (x,y) and a color (r,g,b) (★★☆) \n",
        "(**hint**: dtype)"
      ]
    },
    {
      "cell_type": "code",
      "execution_count": 124,
      "metadata": {
        "id": "2Ps5tjFfXc2d",
        "colab": {
          "base_uri": "https://localhost:8080/"
        },
        "outputId": "c02f863c-2239-4dd4-8d85-70b2d748dc0f"
      },
      "outputs": [
        {
          "output_type": "stream",
          "name": "stderr",
          "text": [
            "/usr/local/lib/python3.7/dist-packages/numpy/core/numeric.py:204: FutureWarning: Passing (type, 1) or '1type' as a synonym of type is deprecated; in a future version of numpy, it will be understood as (type, (1,)) / '(1,)type'.\n",
            "  a = empty(shape, dtype, order)\n"
          ]
        },
        {
          "output_type": "execute_result",
          "data": {
            "text/plain": [
              "array([((1., 1.), (1., 1., 1.)), ((1., 1.), (1., 1., 1.)),\n",
              "       ((1., 1.), (1., 1., 1.)), ((1., 1.), (1., 1., 1.)),\n",
              "       ((1., 1.), (1., 1., 1.)), ((1., 1.), (1., 1., 1.)),\n",
              "       ((1., 1.), (1., 1., 1.)), ((1., 1.), (1., 1., 1.)),\n",
              "       ((1., 1.), (1., 1., 1.)), ((1., 1.), (1., 1., 1.))],\n",
              "      dtype=[('position', [('x', '<f8'), ('y', '<f8')]), ('color', [('r', '<f8'), ('g', '<f8'), ('b', '<f8')])])"
            ]
          },
          "metadata": {},
          "execution_count": 124
        }
      ],
      "source": [
        "arr=np.ones(10,[('position',[('x',float,1),('y',float,1)]),('color',[('r',float,1),('g',float,1),('b',float,1)])])\n",
        "arr"
      ]
    },
    {
      "cell_type": "markdown",
      "metadata": {
        "id": "732nVP0uXc2d"
      },
      "source": [
        "#### 52. Consider a random vector with shape (100,2) representing coordinates, find point by point distances (★★☆) \n",
        "(**hint**: np.atleast\\_2d, T, np.sqrt)"
      ]
    },
    {
      "cell_type": "code",
      "execution_count": 125,
      "metadata": {
        "id": "qp6fInjvXc2e",
        "colab": {
          "base_uri": "https://localhost:8080/"
        },
        "outputId": "f91384f8-bf5f-4db8-daef-6ed9221bae5f"
      },
      "outputs": [
        {
          "output_type": "execute_result",
          "data": {
            "text/plain": [
              "array([[0.        , 0.20941663, 0.66267667, ..., 0.42394205, 0.72875557,\n",
              "        0.43564096],\n",
              "       [0.20941663, 0.        , 0.76913865, ..., 0.61303166, 0.86069651,\n",
              "        0.64451025],\n",
              "       [0.66267667, 0.76913865, 0.        , ..., 0.83463828, 0.13677396,\n",
              "        0.59768947],\n",
              "       ...,\n",
              "       [0.42394205, 0.61303166, 0.83463828, ..., 0.        , 0.83065468,\n",
              "        0.26603623],\n",
              "       [0.72875557, 0.86069651, 0.13677396, ..., 0.83065468, 0.        ,\n",
              "        0.57474749],\n",
              "       [0.43564096, 0.64451025, 0.59768947, ..., 0.26603623, 0.57474749,\n",
              "        0.        ]])"
            ]
          },
          "metadata": {},
          "execution_count": 125
        }
      ],
      "source": [
        "arr=np.random.random((100,2))\n",
        "A,B=np.atleast_2d(arr[:,0],arr[:,1])\n",
        "dist=np.sqrt((A-A.T)**2 + (B-B.T)**2)\n",
        "dist"
      ]
    },
    {
      "cell_type": "markdown",
      "metadata": {
        "id": "cWA950DXXc2e"
      },
      "source": [
        "#### 53. How to convert a float (32 bits) array into an integer (32 bits) in place? \n",
        "(**hint**: astype(copy=False))"
      ]
    },
    {
      "cell_type": "code",
      "execution_count": 126,
      "metadata": {
        "id": "B5WFI44ZXc2f",
        "colab": {
          "base_uri": "https://localhost:8080/"
        },
        "outputId": "717b57a1-678c-420a-8b19-35760922f059"
      },
      "outputs": [
        {
          "output_type": "execute_result",
          "data": {
            "text/plain": [
              "array([0, 1, 2, 3, 4, 5, 6, 7, 8, 9], dtype=int32)"
            ]
          },
          "metadata": {},
          "execution_count": 126
        }
      ],
      "source": [
        "arr=np.arange(10,dtype=np.float32)\n",
        "arr=arr.astype(np.int32,copy=False)\n",
        "arr"
      ]
    },
    {
      "cell_type": "markdown",
      "metadata": {
        "id": "rWT6oActXc2f"
      },
      "source": [
        "#### 54. How to read the following file? (★★☆) \n",
        "(**hint**: np.genfromtxt)"
      ]
    },
    {
      "cell_type": "markdown",
      "metadata": {
        "id": "X5iJB_1fXc2g"
      },
      "source": [
        "```\n",
        "1, 2, 3, 4, 5\n",
        "6,  ,  , 7, 8\n",
        " ,  , 9,10,11\n",
        "```"
      ]
    },
    {
      "cell_type": "code",
      "execution_count": 127,
      "metadata": {
        "id": "MRaWHM46Xc2h",
        "colab": {
          "base_uri": "https://localhost:8080/"
        },
        "outputId": "b90d1102-11f8-4f34-9e74-cfa970bafd76"
      },
      "outputs": [
        {
          "output_type": "stream",
          "name": "stderr",
          "text": [
            "/usr/local/lib/python3.7/dist-packages/ipykernel_launcher.py:5: DeprecationWarning: `np.int` is a deprecated alias for the builtin `int`. To silence this warning, use `int` by itself. Doing this will not modify any behavior and is safe. When replacing `np.int`, you may wish to use e.g. `np.int64` or `np.int32` to specify the precision. If you wish to review your current use, check the release note link for additional information.\n",
            "Deprecated in NumPy 1.20; for more details and guidance: https://numpy.org/devdocs/release/1.20.0-notes.html#deprecations\n",
            "  \"\"\"\n"
          ]
        },
        {
          "output_type": "execute_result",
          "data": {
            "text/plain": [
              "array([[ 1,  2,  3,  4,  5],\n",
              "       [ 6, -1, -1,  7,  8],\n",
              "       [-1, -1,  9, 10, 11]])"
            ]
          },
          "metadata": {},
          "execution_count": 127
        }
      ],
      "source": [
        "from io import StringIO\n",
        "s=StringIO(\"\"\"1, 2, 3, 4, 5\n",
        "6,  ,  , 7, 8\n",
        " ,  , 9,10,11\"\"\")\n",
        "arr=np.genfromtxt(s,delimiter=\",\",dtype=np.int)\n",
        "arr"
      ]
    },
    {
      "cell_type": "markdown",
      "metadata": {
        "id": "YtDDoewbXc2h"
      },
      "source": [
        "#### 55. What is the equivalent of enumerate for numpy arrays? (★★☆) \n",
        "(**hint**: np.ndenumerate, np.ndindex)"
      ]
    },
    {
      "cell_type": "code",
      "execution_count": 128,
      "metadata": {
        "id": "T52LvZk4Xc2i",
        "colab": {
          "base_uri": "https://localhost:8080/"
        },
        "outputId": "e3de235b-61d2-4acf-f8c1-ae57192bb930"
      },
      "outputs": [
        {
          "output_type": "stream",
          "name": "stdout",
          "text": [
            "(0, 0) 0\n",
            "(0, 1) 1\n",
            "(0, 2) 2\n",
            "(1, 0) 3\n",
            "(1, 1) 4\n",
            "(1, 2) 5\n",
            "(2, 0) 6\n",
            "(2, 1) 7\n",
            "(2, 2) 8\n"
          ]
        }
      ],
      "source": [
        "arr=np.arange(9).reshape(3,3)\n",
        "for i,j in np.ndenumerate(arr):\n",
        "  print(i,j)\n",
        "#for k in np.ndindex(arr.shape):\n",
        "  #(k,arr[k])"
      ]
    },
    {
      "cell_type": "markdown",
      "metadata": {
        "id": "VVKll1iwXc2i"
      },
      "source": [
        "#### 56. Generate a generic 2D Gaussian-like array (★★☆) \n",
        "(**hint**: np.meshgrid, np.exp)"
      ]
    },
    {
      "cell_type": "code",
      "execution_count": 131,
      "metadata": {
        "id": "TY29vFPDXc2j",
        "colab": {
          "base_uri": "https://localhost:8080/"
        },
        "outputId": "b2f2231c-356c-47e2-cbb7-a34f97aa874f"
      },
      "outputs": [
        {
          "output_type": "stream",
          "name": "stdout",
          "text": [
            "[[0.36787944 0.44822088 0.51979489 0.57375342 0.60279818 0.60279818\n",
            "  0.57375342 0.51979489 0.44822088 0.36787944]\n",
            " [0.44822088 0.54610814 0.63331324 0.69905581 0.73444367 0.73444367\n",
            "  0.69905581 0.63331324 0.54610814 0.44822088]\n",
            " [0.51979489 0.63331324 0.73444367 0.81068432 0.85172308 0.85172308\n",
            "  0.81068432 0.73444367 0.63331324 0.51979489]\n",
            " [0.57375342 0.69905581 0.81068432 0.89483932 0.9401382  0.9401382\n",
            "  0.89483932 0.81068432 0.69905581 0.57375342]\n",
            " [0.60279818 0.73444367 0.85172308 0.9401382  0.98773022 0.98773022\n",
            "  0.9401382  0.85172308 0.73444367 0.60279818]\n",
            " [0.60279818 0.73444367 0.85172308 0.9401382  0.98773022 0.98773022\n",
            "  0.9401382  0.85172308 0.73444367 0.60279818]\n",
            " [0.57375342 0.69905581 0.81068432 0.89483932 0.9401382  0.9401382\n",
            "  0.89483932 0.81068432 0.69905581 0.57375342]\n",
            " [0.51979489 0.63331324 0.73444367 0.81068432 0.85172308 0.85172308\n",
            "  0.81068432 0.73444367 0.63331324 0.51979489]\n",
            " [0.44822088 0.54610814 0.63331324 0.69905581 0.73444367 0.73444367\n",
            "  0.69905581 0.63331324 0.54610814 0.44822088]\n",
            " [0.36787944 0.44822088 0.51979489 0.57375342 0.60279818 0.60279818\n",
            "  0.57375342 0.51979489 0.44822088 0.36787944]]\n"
          ]
        }
      ],
      "source": [
        "X, Y = np.meshgrid(np.linspace(-1,1,10), np.linspace(-1,1,10))\n",
        "D = np.sqrt(X*X+Y*Y)\n",
        "sigma, mu = 1.0, 0.0\n",
        "G = np.exp(-( (D-mu)**2 / ( 2.0 * sigma**2 ) ) )\n",
        "print(G)\n"
      ]
    },
    {
      "cell_type": "markdown",
      "metadata": {
        "id": "jIEcvIhNXc2k"
      },
      "source": [
        "#### 57. How to randomly place p elements in a 2D array? (★★☆) \n",
        "(**hint**: np.put, np.random.choice)"
      ]
    },
    {
      "cell_type": "code",
      "execution_count": 130,
      "metadata": {
        "id": "hytgxThfXc2l",
        "colab": {
          "base_uri": "https://localhost:8080/"
        },
        "outputId": "c32f7909-2cc5-4493-d34c-516255a6a577"
      },
      "outputs": [
        {
          "output_type": "execute_result",
          "data": {
            "text/plain": [
              "array([[0., 0., 0., 1., 0., 0., 1., 0., 0., 0.],\n",
              "       [0., 0., 1., 0., 0., 0., 0., 1., 0., 0.],\n",
              "       [0., 0., 0., 0., 1., 1., 0., 0., 0., 0.],\n",
              "       [0., 0., 0., 0., 0., 0., 0., 0., 0., 0.],\n",
              "       [0., 0., 0., 0., 0., 0., 0., 0., 0., 0.]])"
            ]
          },
          "metadata": {},
          "execution_count": 130
        }
      ],
      "source": [
        "arr=np.zeros((5,10))\n",
        "np.put(arr, np.random.choice(range(5*10),7),1)\n",
        "arr"
      ]
    },
    {
      "cell_type": "markdown",
      "metadata": {
        "id": "yqDVgRn7Xc2m"
      },
      "source": [
        "#### 58. Subtract the mean of each row of a matrix (★★☆) \n",
        "(**hint**: mean(axis=,keepdims=))"
      ]
    },
    {
      "cell_type": "code",
      "execution_count": 134,
      "metadata": {
        "id": "3fTe2r2hXc2m",
        "colab": {
          "base_uri": "https://localhost:8080/"
        },
        "outputId": "a2da6756-7580-4649-8cb9-03b1e9a2da20"
      },
      "outputs": [
        {
          "output_type": "execute_result",
          "data": {
            "text/plain": [
              "array([[ 0.01174338,  0.06458511, -0.09156277,  0.03128299, -0.01604871],\n",
              "       [ 0.50918647, -0.02860999, -0.12482354, -0.0646235 , -0.29112944],\n",
              "       [-0.01217662, -0.07784582, -0.02089061,  0.1998069 , -0.08889385],\n",
              "       [ 0.18751245, -0.30418393, -0.18267603, -0.03140456,  0.33075207],\n",
              "       [ 0.17642037,  0.06896044, -0.114049  ,  0.3447232 , -0.47605501]])"
            ]
          },
          "metadata": {},
          "execution_count": 134
        }
      ],
      "source": [
        "arr=np.random.random((5,5))\n",
        "new_arr=arr-arr.mean(axis=1,keepdims=True)\n",
        "new_arr"
      ]
    },
    {
      "cell_type": "code",
      "source": [],
      "metadata": {
        "id": "PzOlIkwfNyvp"
      },
      "execution_count": null,
      "outputs": []
    },
    {
      "cell_type": "markdown",
      "metadata": {
        "id": "_oaIkpY8Xc2n"
      },
      "source": [
        "#### 59. How to sort an array by the nth column? (★★☆) \n",
        "(**hint**: argsort)"
      ]
    },
    {
      "cell_type": "code",
      "execution_count": 135,
      "metadata": {
        "id": "T3LxreztXc2n",
        "colab": {
          "base_uri": "https://localhost:8080/"
        },
        "outputId": "86f499d7-5068-4ba6-c333-98d66bc0c78a"
      },
      "outputs": [
        {
          "output_type": "stream",
          "name": "stdout",
          "text": [
            "[[ 2 10  1 15]\n",
            " [ 1  7  2 13]\n",
            " [ 4  1  9 14]\n",
            " [ 4 13  7  1]]\n"
          ]
        },
        {
          "output_type": "execute_result",
          "data": {
            "text/plain": [
              "array([[ 2, 10,  1, 15],\n",
              "       [ 1,  7,  2, 13],\n",
              "       [ 4, 13,  7,  1],\n",
              "       [ 4,  1,  9, 14]])"
            ]
          },
          "metadata": {},
          "execution_count": 135
        }
      ],
      "source": [
        "arr=np.random.randint(0,16,(4,4))\n",
        "print(arr)\n",
        "new_arr=arr[arr[:,2].argsort()]\n",
        "new_arr"
      ]
    },
    {
      "cell_type": "markdown",
      "metadata": {
        "id": "9pFl98srXc2o"
      },
      "source": [
        "#### 60. How to tell if a given 2D array has null columns? (★★☆) \n",
        "(**hint**: any, ~)"
      ]
    },
    {
      "cell_type": "code",
      "execution_count": 136,
      "metadata": {
        "id": "p3DiuR-MXc2o",
        "colab": {
          "base_uri": "https://localhost:8080/"
        },
        "outputId": "685662ba-e4fe-4d1f-8d29-eeb493158912"
      },
      "outputs": [
        {
          "output_type": "stream",
          "name": "stdout",
          "text": [
            "[]\n",
            "True\n",
            "[[1 0 0 1 2 2 2 2 0 0]\n",
            " [1 1 1 2 0 0 2 0 0 2]\n",
            " [2 0 1 1 1 0 0 0 0 1]]\n"
          ]
        },
        {
          "output_type": "execute_result",
          "data": {
            "text/plain": [
              "False"
            ]
          },
          "metadata": {},
          "execution_count": 136
        }
      ],
      "source": [
        "arr=np.random.randint(0,3,(3,0))\n",
        "print(arr)\n",
        "print((~arr.any(axis=0).any()))\n",
        "arr=np.random.randint(0,3,(3,10))\n",
        "print(arr)\n",
        "(~arr.any(axis=0).any())"
      ]
    },
    {
      "cell_type": "markdown",
      "metadata": {
        "id": "xbJoKFcIXc2p"
      },
      "source": [
        "#### 61. Find the nearest value from a given value in an array (★★☆) \n",
        "(**hint**: np.abs, argmin, flat)"
      ]
    },
    {
      "cell_type": "code",
      "execution_count": 137,
      "metadata": {
        "id": "yE5fvB2qXc2r",
        "colab": {
          "base_uri": "https://localhost:8080/"
        },
        "outputId": "175f123d-92b4-4141-c309-bd9b726b44bd"
      },
      "outputs": [
        {
          "output_type": "stream",
          "name": "stdout",
          "text": [
            "[[6 6 3 8 7 9 8 1]]\n"
          ]
        },
        {
          "output_type": "execute_result",
          "data": {
            "text/plain": [
              "3"
            ]
          },
          "metadata": {},
          "execution_count": 137
        }
      ],
      "source": [
        "arr=np.random.randint(0,10,(1,8))\n",
        "value=4\n",
        "print(arr)\n",
        "nearest=arr.flat[np.abs(arr-value).argmin()]\n",
        "nearest"
      ]
    },
    {
      "cell_type": "markdown",
      "metadata": {
        "id": "2SyZx_LWXc2r"
      },
      "source": [
        "#### 62. Considering two arrays with shape (1,3) and (3,1), how to compute their sum using an iterator? (★★☆) \n",
        "(**hint**: np.nditer)"
      ]
    },
    {
      "cell_type": "code",
      "execution_count": 138,
      "metadata": {
        "id": "-mNOOAbwXc2s",
        "colab": {
          "base_uri": "https://localhost:8080/"
        },
        "outputId": "fc787fc1-bc20-4734-fc2d-3c7fd15fe877"
      },
      "outputs": [
        {
          "output_type": "execute_result",
          "data": {
            "text/plain": [
              "(array([[0, 8, 2]]), array([[3],\n",
              "        [7],\n",
              "        [7]]), array([[ 3, 11,  5],\n",
              "        [ 7, 15,  9],\n",
              "        [ 7, 15,  9]]))"
            ]
          },
          "metadata": {},
          "execution_count": 138
        }
      ],
      "source": [
        "arr1=np.random.randint(0,10,(1,3))\n",
        "arr2=np.random.randint(0,10,(3,1))\n",
        "add=np.nditer([arr1,arr2,None])\n",
        "for i,j,k in add:\n",
        "  k[...]=i+j\n",
        "add.operands"
      ]
    },
    {
      "cell_type": "markdown",
      "metadata": {
        "id": "rGtiVMcoXc2s"
      },
      "source": [
        "#### 63. Create an array class that has a name attribute (★★☆) \n",
        "(**hint**: class method)"
      ]
    },
    {
      "cell_type": "code",
      "execution_count": 139,
      "metadata": {
        "id": "_IZpJ0NdXc2t",
        "colab": {
          "base_uri": "https://localhost:8080/",
          "height": 36
        },
        "outputId": "46d470e5-78b8-4714-9d35-565cb4bfc4b6"
      },
      "outputs": [
        {
          "output_type": "execute_result",
          "data": {
            "text/plain": [
              "'new_one'"
            ],
            "application/vnd.google.colaboratory.intrinsic+json": {
              "type": "string"
            }
          },
          "metadata": {},
          "execution_count": 139
        }
      ],
      "source": [
        "class Array(np.ndarray):\n",
        "  def __new__(cls,array,name=\"None\"):\n",
        "    obj=np.asarray(array).view(cls)\n",
        "    obj.name=name\n",
        "    return obj\n",
        "  def __Array2__(self,obj):\n",
        "    if obj is None:\n",
        "      return self.info == getattr(obj,'name',\"no name\")\n",
        "\n",
        "arr=Array(np.arange(10),\"new_one\")\n",
        "arr.name"
      ]
    },
    {
      "cell_type": "markdown",
      "metadata": {
        "id": "yu_xWf7TXc2t"
      },
      "source": [
        "#### 64. Consider a given vector, how to add 1 to each element indexed by a second vector (be careful with repeated indices)? (★★★) \n",
        "(**hint**: np.bincount | np.add.at)"
      ]
    },
    {
      "cell_type": "code",
      "execution_count": 140,
      "metadata": {
        "id": "qaPoMHMIXc2t",
        "colab": {
          "base_uri": "https://localhost:8080/"
        },
        "outputId": "8930d176-1cc3-49ea-e51d-6de6d78b8b71"
      },
      "outputs": [
        {
          "output_type": "stream",
          "name": "stdout",
          "text": [
            "[1 1 1 1 1 1 1 1 1 1]\n",
            "[2 8 1 4 6 0 2 0 5 1]\n",
            "[3 3 3 1 2 2 2 1 2 1]\n",
            "or\n",
            "[5 5 5 1 3 3 3 1 3 1]\n"
          ]
        }
      ],
      "source": [
        "arr=np.ones(10,dtype=int)\n",
        "print(arr)\n",
        "arr2=np.random.randint(0,len(arr),10)\n",
        "print(arr2)\n",
        "np.add.at(arr,arr2,1)\n",
        "print(arr)\n",
        "\n",
        "print(\"or\")\n",
        "\n",
        "arr+=np.bincount(arr2,minlength=10)\n",
        "print(arr)"
      ]
    },
    {
      "cell_type": "markdown",
      "metadata": {
        "id": "gXDwgI_gXc2u"
      },
      "source": [
        "#### 65. How to accumulate elements of a vector (X) to an array (F) based on an index list (I)? (★★★) \n",
        "(**hint**: np.bincount)"
      ]
    },
    {
      "cell_type": "code",
      "execution_count": 141,
      "metadata": {
        "id": "JOburTajXc2u",
        "colab": {
          "base_uri": "https://localhost:8080/"
        },
        "outputId": "8fc36541-fff8-416d-da8b-00c8192f9b84"
      },
      "outputs": [
        {
          "output_type": "execute_result",
          "data": {
            "text/plain": [
              "array([ 0.,  9.,  1.,  5.,  4.,  0., 11.,  0.,  0.,  8.])"
            ]
          },
          "metadata": {},
          "execution_count": 141
        }
      ],
      "source": [
        "arr=[1,2,3,4,5,6,8,9]\n",
        "arr2=[2,3,3,4,6,6,9,1]\n",
        "F=np.bincount(arr2,arr)\n",
        "F"
      ]
    },
    {
      "cell_type": "markdown",
      "metadata": {
        "id": "Q02uDP_WXc2v"
      },
      "source": [
        "#### 66. Considering a (w,h,3) image of (dtype=ubyte), compute the number of unique colors (★★★) \n",
        "(**hint**: np.unique)"
      ]
    },
    {
      "cell_type": "code",
      "execution_count": 142,
      "metadata": {
        "id": "Cl_yuFdGXc2w",
        "colab": {
          "base_uri": "https://localhost:8080/"
        },
        "outputId": "7b78a169-a86b-4fd1-b5f1-ccedc052ec73"
      },
      "outputs": [
        {
          "output_type": "execute_result",
          "data": {
            "text/plain": [
              "8"
            ]
          },
          "metadata": {},
          "execution_count": 142
        }
      ],
      "source": [
        "w,h=16,16\n",
        "arr=np.random.randint(0,2,(h,w,3)).astype(np.ubyte)\n",
        "A=arr[0]*(256*256) +arr[1]*256+arr[2]\n",
        "len(np.unique(A))\n"
      ]
    },
    {
      "cell_type": "markdown",
      "metadata": {
        "id": "__aej7oaXc2x"
      },
      "source": [
        "#### 67. Considering a four dimensions array, how to get sum over the last two axis at once? (★★★) \n",
        "(**hint**: sum(axis=(-2,-1)))"
      ]
    },
    {
      "cell_type": "code",
      "execution_count": 143,
      "metadata": {
        "id": "Wj8QinWzXc2y",
        "colab": {
          "base_uri": "https://localhost:8080/"
        },
        "outputId": "da7f287e-bcd7-44c5-b6a9-80e661decb09"
      },
      "outputs": [
        {
          "output_type": "execute_result",
          "data": {
            "text/plain": [
              "65"
            ]
          },
          "metadata": {},
          "execution_count": 143
        }
      ],
      "source": [
        "arr=np.random.randint(0,10,(3,4))\n",
        "add=arr.sum(axis=(-2,-1))\n",
        "add"
      ]
    },
    {
      "cell_type": "markdown",
      "metadata": {
        "id": "ceaMtdA7Xc2y"
      },
      "source": [
        "#### 68. Considering a one-dimensional vector D, how to compute means of subsets of D using a vector S of same size describing subset  indices? (★★★) \n",
        "(**hint**: np.bincount)"
      ]
    },
    {
      "cell_type": "code",
      "execution_count": 144,
      "metadata": {
        "id": "Stvuiv2HXc2z",
        "colab": {
          "base_uri": "https://localhost:8080/"
        },
        "outputId": "ec998922-e21b-440e-c6e3-42a6bb0288a9"
      },
      "outputs": [
        {
          "output_type": "stream",
          "name": "stdout",
          "text": [
            "[41.11111111 42.         40.71428571 53.6        65.66666667 45.3\n",
            " 53.11111111 62.28571429 72.         54.05555556]\n"
          ]
        }
      ],
      "source": [
        "D=np.random.randint(0,100,100)\n",
        "S=np.random.randint(0,10,100)\n",
        "D_sum=np.bincount(S,D)\n",
        "D_count=np.bincount(S)\n",
        "D_mean=D_sum/D_count\n",
        "print(D_mean)"
      ]
    },
    {
      "cell_type": "markdown",
      "metadata": {
        "id": "qCxOMldfXc2z"
      },
      "source": [
        "#### 69. How to get the diagonal of a dot product? (★★★) \n",
        "(**hint**: np.diag)"
      ]
    },
    {
      "cell_type": "code",
      "execution_count": 145,
      "metadata": {
        "id": "18QNvmvOXc20",
        "colab": {
          "base_uri": "https://localhost:8080/"
        },
        "outputId": "ce066ac2-c40e-4165-9bb8-21574da73b66"
      },
      "outputs": [
        {
          "output_type": "execute_result",
          "data": {
            "text/plain": [
              "array([53, 86, 68, 52, 27])"
            ]
          },
          "metadata": {},
          "execution_count": 145
        }
      ],
      "source": [
        "arr1=np.random.randint(0,10,(5,5))\n",
        "arr2=np.random.randint(0,10,(5,5))\n",
        "np.diag(np.dot(arr1,arr2))"
      ]
    },
    {
      "cell_type": "markdown",
      "metadata": {
        "id": "YHwZv_f2Xc20"
      },
      "source": [
        "#### 70. Consider the vector \\[1, 2, 3, 4, 5\\], how to build a new vector with 3 consecutive zeros interleaved between each value? (★★★) \n",
        "(**hint**: array\\[::4\\])"
      ]
    },
    {
      "cell_type": "code",
      "execution_count": 146,
      "metadata": {
        "id": "K6vKWVQRXc22",
        "colab": {
          "base_uri": "https://localhost:8080/"
        },
        "outputId": "b8058bf0-10a2-427b-c79e-3bb7974fbe15"
      },
      "outputs": [
        {
          "output_type": "execute_result",
          "data": {
            "text/plain": [
              "array([1., 0., 0., 0., 2., 0., 0., 0., 3., 0., 0., 0., 4., 0., 0., 0., 5.])"
            ]
          },
          "metadata": {},
          "execution_count": 146
        }
      ],
      "source": [
        "arr=np.array([1,2,3,4,5])\n",
        "arr0=np.zeros(len(arr)+(len(arr)-1)*3)\n",
        "arr0[::4]=arr\n",
        "arr0"
      ]
    },
    {
      "cell_type": "markdown",
      "metadata": {
        "id": "eVGa5TQEXc24"
      },
      "source": [
        "#### 71. Consider an array of dimension (5,5,3), how to mulitply it by an array with dimensions (5,5)? (★★★) \n",
        "(**hint**: array\\[:, :, None\\])"
      ]
    },
    {
      "cell_type": "code",
      "execution_count": 147,
      "metadata": {
        "collapsed": true,
        "id": "PCmBJ2mJXc24",
        "colab": {
          "base_uri": "https://localhost:8080/"
        },
        "outputId": "d0ba2544-2c11-4710-b82e-f641e5d4c0d1"
      },
      "outputs": [
        {
          "output_type": "execute_result",
          "data": {
            "text/plain": [
              "array([[[5., 5., 5.],\n",
              "        [5., 5., 5.],\n",
              "        [5., 5., 5.],\n",
              "        [5., 5., 5.],\n",
              "        [5., 5., 5.]],\n",
              "\n",
              "       [[5., 5., 5.],\n",
              "        [5., 5., 5.],\n",
              "        [5., 5., 5.],\n",
              "        [5., 5., 5.],\n",
              "        [5., 5., 5.]],\n",
              "\n",
              "       [[5., 5., 5.],\n",
              "        [5., 5., 5.],\n",
              "        [5., 5., 5.],\n",
              "        [5., 5., 5.],\n",
              "        [5., 5., 5.]],\n",
              "\n",
              "       [[5., 5., 5.],\n",
              "        [5., 5., 5.],\n",
              "        [5., 5., 5.],\n",
              "        [5., 5., 5.],\n",
              "        [5., 5., 5.]],\n",
              "\n",
              "       [[5., 5., 5.],\n",
              "        [5., 5., 5.],\n",
              "        [5., 5., 5.],\n",
              "        [5., 5., 5.],\n",
              "        [5., 5., 5.]]])"
            ]
          },
          "metadata": {},
          "execution_count": 147
        }
      ],
      "source": [
        "arr=np.ones((5,5,3))\n",
        "arr2=5*np.ones((5,5))\n",
        "arr*arr2[:,:,None]"
      ]
    },
    {
      "cell_type": "markdown",
      "metadata": {
        "id": "fWmVYieEXc25"
      },
      "source": [
        "#### 72. How to swap two rows of an array? (★★★) \n",
        "(**hint**: array\\[\\[\\]\\] = array\\[\\[\\]\\])"
      ]
    },
    {
      "cell_type": "code",
      "execution_count": 148,
      "metadata": {
        "id": "nXW7HFzUXc26",
        "colab": {
          "base_uri": "https://localhost:8080/"
        },
        "outputId": "3e6c2e4f-b2ff-40c7-a45a-eeb2ab67a34c"
      },
      "outputs": [
        {
          "output_type": "stream",
          "name": "stdout",
          "text": [
            "[[26 97 77 94 40]\n",
            " [41 15 70 11 75]\n",
            " [34 42 23 76 52]\n",
            " [21 76 91 13 72]\n",
            " [56 90 54 22 56]]\n",
            "[[26 97 77 94 40]\n",
            " [41 15 70 11 75]\n",
            " [56 90 54 22 56]\n",
            " [21 76 91 13 72]\n",
            " [34 42 23 76 52]]\n"
          ]
        }
      ],
      "source": [
        "arr=np.random.randint(0,100,(5,5))\n",
        "print(arr)\n",
        "arr[[2,4]]=arr[[4,2]]\n",
        "print(arr)"
      ]
    },
    {
      "cell_type": "markdown",
      "metadata": {
        "id": "2t8VqXSnXc28"
      },
      "source": [
        "#### 73. Consider a set of 10 triplets describing 10 triangles (with shared vertices), find the set of unique line segments composing all the  triangles (★★★) \n",
        "(**hint**: repeat, np.roll, np.sort, view, np.unique)"
      ]
    },
    {
      "cell_type": "code",
      "execution_count": 149,
      "metadata": {
        "id": "r7ERynHcXc29",
        "colab": {
          "base_uri": "https://localhost:8080/"
        },
        "outputId": "c03eb6a2-c117-400c-8638-b319a1f90b64"
      },
      "outputs": [
        {
          "output_type": "execute_result",
          "data": {
            "text/plain": [
              "array([( 6, 61), ( 6, 86), (12, 39), (12, 53), (18, 52), (18, 65),\n",
              "       (23, 24), (23, 81), (24, 81), (27, 51), (27, 85), (39, 53),\n",
              "       (39, 84), (46, 51), (46, 85), (47, 59), (47, 66), (51, 85),\n",
              "       (52, 65), (59, 66), (60, 77), (60, 83), (60, 90), (60, 92),\n",
              "       (61, 86), (77, 92), (83, 90), (84, 84)],\n",
              "      dtype=[('p0', '<i8'), ('p1', '<i8')])"
            ]
          },
          "metadata": {},
          "execution_count": 149
        }
      ],
      "source": [
        "triangle=np.random.randint(0,100,(10,3))\n",
        "A=triangle.repeat(2,axis=1)\n",
        "B=np.roll(A,-1,axis=1)\n",
        "B=B.reshape(len(B)*3,2)\n",
        "B=np.sort(B,axis=1)\n",
        "C=B.view(dtype=[('p0',B.dtype),('p1',B.dtype)])\n",
        "C=np.unique(C)\n",
        "C"
      ]
    },
    {
      "cell_type": "markdown",
      "metadata": {
        "id": "-CVyA4iqXc2-"
      },
      "source": [
        "#### 74. Given an array C that is a bincount, how to produce an array A such that np.bincount(A) == C? (★★★) \n",
        "(**hint**: np.repeat)"
      ]
    },
    {
      "cell_type": "code",
      "execution_count": 153,
      "metadata": {
        "id": "_ggB1767Xc2_",
        "colab": {
          "base_uri": "https://localhost:8080/"
        },
        "outputId": "6338e7e2-ccab-47c1-a1eb-db7e1a64d238"
      },
      "outputs": [
        {
          "output_type": "execute_result",
          "data": {
            "text/plain": [
              "array([1, 1, 2, 3, 4, 5, 6, 6])"
            ]
          },
          "metadata": {},
          "execution_count": 153
        }
      ],
      "source": [
        "C = np.bincount([1,1,2,3,4,5,6,6])\n",
        "A=np.repeat(np.arange(len(C)),C)\n",
        "A"
      ]
    },
    {
      "cell_type": "markdown",
      "metadata": {
        "id": "zzCuCPAuXc2_"
      },
      "source": [
        "#### 75. How to compute averages using a sliding window over an array? (★★★) \n",
        "(**hint**: np.cumsum)"
      ]
    },
    {
      "cell_type": "code",
      "execution_count": 154,
      "metadata": {
        "id": "DCuw7FTOXc3B",
        "colab": {
          "base_uri": "https://localhost:8080/"
        },
        "outputId": "d7b1df3f-2741-4b07-869c-d6e3cd123390"
      },
      "outputs": [
        {
          "output_type": "stream",
          "name": "stdout",
          "text": [
            "[ 0  1  3  6  9 12 15 18 21 24]\n",
            "[1. 2. 3. 4. 5. 6. 7. 8.]\n"
          ]
        }
      ],
      "source": [
        "arr=np.arange(10)\n",
        "new=np.cumsum(arr,dtype=int)\n",
        "n=3\n",
        "new[n:]=new[n:]-new[:-n]\n",
        "print(new)\n",
        "print(new[n - 1:]/n)"
      ]
    },
    {
      "cell_type": "markdown",
      "metadata": {
        "id": "0XAnpyZMXc3B"
      },
      "source": [
        "#### 76. Consider a one-dimensional array Z, build a two-dimensional array whose first row is (Z\\[0\\],Z\\[1\\],Z\\[2\\]) and each subsequent row is  shifted by 1 (last row should be (Z\\[-3\\],Z\\[-2\\],Z\\[-1\\]) (★★★) \n",
        "(**hint**: from numpy.lib import stride_tricks)"
      ]
    },
    {
      "cell_type": "code",
      "execution_count": 155,
      "metadata": {
        "id": "eBS6ENpWXc3C",
        "colab": {
          "base_uri": "https://localhost:8080/"
        },
        "outputId": "3f272b90-6a8e-4a38-a68e-10b7a2648f04"
      },
      "outputs": [
        {
          "output_type": "stream",
          "name": "stdout",
          "text": [
            "[[0 1 2 3]\n",
            " [1 2 3 4]\n",
            " [2 3 4 5]\n",
            " [3 4 5 6]\n",
            " [4 5 6 7]\n",
            " [5 6 7 8]\n",
            " [6 7 8 9]]\n"
          ]
        }
      ],
      "source": [
        "from numpy.lib import stride_tricks\n",
        "\n",
        "def rolling(a,n):\n",
        "    n=4\n",
        "    shape = (a.size - n + 1, n)\n",
        "    strides = (a.itemsize, a.itemsize)\n",
        "    return stride_tricks.as_strided(a, shape=shape, strides=strides)\n",
        "Z = rolling(np.arange(10), n)\n",
        "print(Z)\n"
      ]
    },
    {
      "cell_type": "markdown",
      "metadata": {
        "id": "xS74HLM3Xc3C"
      },
      "source": [
        "#### 77. How to negate a boolean, or to change the sign of a float inplace? (★★★) \n",
        "(**hint**: np.logical_not, np.negative)"
      ]
    },
    {
      "cell_type": "code",
      "execution_count": 156,
      "metadata": {
        "id": "5-90gAwNXc3D",
        "colab": {
          "base_uri": "https://localhost:8080/"
        },
        "outputId": "93fe19fd-9754-4d35-e467-39c0583538c4"
      },
      "outputs": [
        {
          "output_type": "stream",
          "name": "stdout",
          "text": [
            "[1 0 0 0 0 1 0 0 1 0]\n",
            "[ 0.08644906  0.93038096  0.78111161  0.51627394 -0.78167367  0.37252117\n",
            "  0.46978034  0.76674303 -0.10147193  0.32218934]\n"
          ]
        }
      ],
      "source": [
        "arr=np.random.randint(0,3,10)\n",
        "print(np.logical_not(arr,out=arr))\n",
        "arr2=np.random.uniform(-1,1,10)\n",
        "print(np.negative(arr2, out=arr2))\n"
      ]
    },
    {
      "cell_type": "markdown",
      "metadata": {
        "id": "37gyZqrxXc3D"
      },
      "source": [
        "#### 78. Consider 2 sets of points P0,P1 describing lines (2d) and a point p, how to compute distance from p to each line i  (P0\\[i\\],P1\\[i\\])? (★★★)"
      ]
    },
    {
      "cell_type": "code",
      "execution_count": 157,
      "metadata": {
        "id": "bXOIcR1AXc3E",
        "colab": {
          "base_uri": "https://localhost:8080/"
        },
        "outputId": "e830756c-43e9-419f-fd3e-2442e999bad8"
      },
      "outputs": [
        {
          "output_type": "stream",
          "name": "stdout",
          "text": [
            "[2.84926286 3.93966035 7.71372144 7.75883918 0.67084546 6.5125979\n",
            " 1.48576522 0.83776869 3.95665326 1.80504429]\n"
          ]
        }
      ],
      "source": [
        "def distance(P0, P1, p):\n",
        "    T = P1 - P0\n",
        "    L = (T**2).sum(axis=1)\n",
        "    U = -((P0[:,0]-p[...,0])*T[:,0] + (P0[:,1]-p[...,1])*T[:,1]) / L\n",
        "    U = U.reshape(len(U),1)\n",
        "    D = P0 + U*T - p\n",
        "    return np.sqrt((D**2).sum(axis=1))\n",
        "\n",
        "P0 = np.random.uniform(0,10,(10,2))\n",
        "P1 = np.random.uniform(0,10,(10,2))\n",
        "p  = np.random.uniform(0,10,( 1,2))\n",
        "print(distance(P0, P1, p))"
      ]
    },
    {
      "cell_type": "markdown",
      "metadata": {
        "id": "5-rkSc-7Xc3E"
      },
      "source": [
        "#### 79. Consider 2 sets of points P0,P1 describing lines (2d) and a set of points P, how to compute distance from each point j (P\\[j\\]) to each line i (P0\\[i\\],P1\\[i\\])? (★★★)"
      ]
    },
    {
      "cell_type": "code",
      "execution_count": 158,
      "metadata": {
        "id": "OPamdr4eXc3F",
        "colab": {
          "base_uri": "https://localhost:8080/"
        },
        "outputId": "7d25c13d-b19c-4592-88a2-5f4b6bf5b102"
      },
      "outputs": [
        {
          "output_type": "stream",
          "name": "stdout",
          "text": [
            "[[3.26946119 5.07460653 4.18992536 2.37420678 5.50222667 0.48883836\n",
            "  1.74062204 2.79571819 1.17813258 1.61841902]]\n",
            "[[0.12986018 2.06472348 0.57998678 0.51827675 1.80196693 3.41609947\n",
            "  2.07739567 0.46617952 3.06828204 2.28457432]]\n",
            "[[0.90018954 2.74054554 1.83968176 2.42818978 3.17686547 1.56816613\n",
            "  0.02576976 2.50939355 3.20114112 0.40189268]]\n",
            "[[3.65803028 0.779983   3.36282394 3.00107428 2.33842781 8.25483621\n",
            "  7.09786282 3.53266139 4.19590128 7.16306931]]\n",
            "[[0.9864018  3.4263638  1.50338562 1.00156219 2.61623468 3.18407652\n",
            "  2.23739446 0.88200346 1.3326492  2.10902785]]\n",
            "[[2.1606739  0.2098258  1.24223099 2.12711551 0.10292792 4.40851631\n",
            "  2.5539771  1.77148526 5.62049863 3.2045636 ]]\n",
            "[[1.53642638 0.88265563 0.9582043  0.61109083 0.20284468 5.21015149\n",
            "  3.89717872 0.85641869 3.66113446 4.08729965]]\n",
            "[[0.32833396 0.96763708 1.01599342 5.66580022 2.57528784 1.05162368\n",
            "  1.18935943 5.54622748 5.93075951 0.21784427]]\n",
            "[[3.62607719 1.79545658 2.59617917 2.9705803  1.18282822 5.2812103\n",
            "  3.10864222 2.39833065 7.29591396 4.03331968]]\n",
            "[[1.21089924 3.55568025 1.79055396 0.48274551 2.93519612 2.73073766\n",
            "  1.72215462 0.33491112 1.4153059  1.64542629]]\n"
          ]
        }
      ],
      "source": [
        "P0 = np.random.uniform(0, 10, (10,2))\n",
        "P1 = np.random.uniform(0,10,(10,2))\n",
        "p = np.random.uniform(0, 10, (10,2))\n",
        "for p_i in p:\n",
        "  print(np.array([distance(P0,P1,p_i)]))"
      ]
    },
    {
      "cell_type": "markdown",
      "metadata": {
        "id": "PQ9tGfQRXc3S"
      },
      "source": [
        "#### 80. Consider an arbitrary array, write a function that extract a subpart with a fixed shape and centered on a given element (pad with a `fill` value when necessary) (★★★) \n",
        "(**hint**: minimum, maximum)"
      ]
    },
    {
      "cell_type": "code",
      "execution_count": 159,
      "metadata": {
        "id": "Miu7xunqXc3T",
        "colab": {
          "base_uri": "https://localhost:8080/"
        },
        "outputId": "999abbca-a208-4375-8c1e-4e74eb424935"
      },
      "outputs": [
        {
          "output_type": "stream",
          "name": "stdout",
          "text": [
            "[[5 3 1 6 4 6 1 5 7 3]\n",
            " [0 3 9 2 8 3 5 3 3 2]\n",
            " [6 3 4 6 5 3 1 4 7 0]\n",
            " [7 6 6 1 4 2 2 7 9 3]\n",
            " [9 8 7 1 0 3 3 6 9 6]\n",
            " [6 1 9 9 6 9 7 0 3 7]\n",
            " [6 9 6 5 4 1 6 3 4 3]\n",
            " [0 5 7 5 5 0 4 4 1 8]\n",
            " [1 7 4 1 8 0 3 7 9 2]\n",
            " [7 1 7 3 3 6 0 7 6 6]]\n",
            "[[0 0 0 0 0]\n",
            " [0 5 3 1 6]\n",
            " [0 0 3 9 2]\n",
            " [0 6 3 4 6]\n",
            " [0 7 6 6 1]]\n"
          ]
        },
        {
          "output_type": "stream",
          "name": "stderr",
          "text": [
            "/usr/local/lib/python3.7/dist-packages/ipykernel_launcher.py:23: FutureWarning: Using a non-tuple sequence for multidimensional indexing is deprecated; use `arr[tuple(seq)]` instead of `arr[seq]`. In the future this will be interpreted as an array index, `arr[np.array(seq)]`, which will result either in an error or a different result.\n"
          ]
        }
      ],
      "source": [
        "Z = np.random.randint(0,10,(10,10))\n",
        "shape = (5,5)\n",
        "fill  = 0\n",
        "position = (1,1)\n",
        "\n",
        "R = np.ones(shape, dtype=Z.dtype)*fill\n",
        "P  = np.array(list(position)).astype(int)\n",
        "Rs = np.array(list(R.shape)).astype(int)\n",
        "Zs = np.array(list(Z.shape)).astype(int)\n",
        "\n",
        "R_start = np.zeros((len(shape),)).astype(int)\n",
        "R_stop  = np.array(list(shape)).astype(int)\n",
        "Z_start = (P-Rs//2)\n",
        "Z_stop  = (P+Rs//2)+Rs%2\n",
        "\n",
        "R_start = (R_start - np.minimum(Z_start,0)).tolist()\n",
        "Z_start = (np.maximum(Z_start,0)).tolist()\n",
        "R_stop = np.maximum(R_start, (R_stop - np.maximum(Z_stop-Zs,0))).tolist()\n",
        "Z_stop = (np.minimum(Z_stop,Zs)).tolist()\n",
        "\n",
        "r = [slice(start,stop) for start,stop in zip(R_start,R_stop)]\n",
        "z = [slice(start,stop) for start,stop in zip(Z_start,Z_stop)]\n",
        "R[r] = Z[z]\n",
        "print(Z)\n",
        "print(R)"
      ]
    },
    {
      "cell_type": "markdown",
      "metadata": {
        "id": "m88Yys0QXc3U"
      },
      "source": [
        "#### 81. Consider an array Z = \\[1,2,3,4,5,6,7,8,9,10,11,12,13,14\\], how to generate an array R = \\[\\[1,2,3,4\\], \\[2,3,4,5\\], \\[3,4,5,6\\], ..., \\[11,12,13,14\\]\\]? (★★★) \n",
        "(**hint**: stride\\_tricks.as\\_strided)"
      ]
    },
    {
      "cell_type": "code",
      "execution_count": 160,
      "metadata": {
        "id": "3vR6PTm2Xc3U",
        "colab": {
          "base_uri": "https://localhost:8080/"
        },
        "outputId": "55b01dbe-ede9-4b56-da7b-f06317abbf04"
      },
      "outputs": [
        {
          "output_type": "execute_result",
          "data": {
            "text/plain": [
              "array([[ 1,  2,  3,  4],\n",
              "       [ 2,  3,  4,  5],\n",
              "       [ 3,  4,  5,  6],\n",
              "       [ 4,  5,  6,  7],\n",
              "       [ 5,  6,  7,  8],\n",
              "       [ 6,  7,  8,  9],\n",
              "       [ 7,  8,  9, 10],\n",
              "       [ 8,  9, 10, 11],\n",
              "       [ 9, 10, 11, 12],\n",
              "       [10, 11, 12, 13],\n",
              "       [11, 12, 13, 14]], dtype=uint32)"
            ]
          },
          "metadata": {},
          "execution_count": 160
        }
      ],
      "source": [
        "arr=np.arange(1,15,dtype=np.uint32)\n",
        "R=stride_tricks.as_strided(arr,(11,4),(4,4))\n",
        "R"
      ]
    },
    {
      "cell_type": "markdown",
      "metadata": {
        "id": "1axOujCIXc3V"
      },
      "source": [
        "#### 82. Compute a matrix rank (★★★) \n",
        "(**hint**: np.linalg.svd) (suggestion: np.linalg.svd)"
      ]
    },
    {
      "cell_type": "code",
      "execution_count": 161,
      "metadata": {
        "id": "RHFDLiknXc3W",
        "colab": {
          "base_uri": "https://localhost:8080/"
        },
        "outputId": "b89b5db2-19e3-4319-83c6-95da94e8f44f"
      },
      "outputs": [
        {
          "output_type": "stream",
          "name": "stdout",
          "text": [
            "5\n"
          ]
        }
      ],
      "source": [
        "arr=np.random.uniform(0,1,(5,6))\n",
        "U, S, V = np.linalg.svd(arr)\n",
        "rank = np.sum(S > 1e-10)\n",
        "print(rank)"
      ]
    },
    {
      "cell_type": "markdown",
      "metadata": {
        "id": "ZZBL2qjhXc3W"
      },
      "source": [
        "#### 83. How to find the most frequent value in an array? \n",
        "(**hint**: np.bincount, argmax)"
      ]
    },
    {
      "cell_type": "code",
      "execution_count": 162,
      "metadata": {
        "id": "TqqL-bVhXc3X",
        "colab": {
          "base_uri": "https://localhost:8080/"
        },
        "outputId": "53220557-b7df-4628-ee01-ada678712905"
      },
      "outputs": [
        {
          "output_type": "execute_result",
          "data": {
            "text/plain": [
              "0"
            ]
          },
          "metadata": {},
          "execution_count": 162
        }
      ],
      "source": [
        "arr=np.random.randint(0,5,50)\n",
        "np.bincount(arr).argmax()"
      ]
    },
    {
      "cell_type": "markdown",
      "metadata": {
        "id": "fHT5Z0gMXc3X"
      },
      "source": [
        "#### 84. Extract all the contiguous 3x3 blocks from a random 10x10 matrix (★★★) \n",
        "(**hint**: stride\\_tricks.as\\_strided)"
      ]
    },
    {
      "cell_type": "code",
      "execution_count": 163,
      "metadata": {
        "id": "Ddvui4GSXc3Y",
        "colab": {
          "base_uri": "https://localhost:8080/"
        },
        "outputId": "86068a17-53f8-475e-9cd9-9c5a74b3b3db"
      },
      "outputs": [
        {
          "output_type": "stream",
          "name": "stdout",
          "text": [
            "[[[[2 3 2]\n",
            "   [1 3 0]\n",
            "   [3 0 0]]\n",
            "\n",
            "  [[3 2 0]\n",
            "   [3 0 3]\n",
            "   [0 0 0]]\n",
            "\n",
            "  [[2 0 3]\n",
            "   [0 3 3]\n",
            "   [0 0 3]]\n",
            "\n",
            "  [[0 3 1]\n",
            "   [3 3 2]\n",
            "   [0 3 1]]\n",
            "\n",
            "  [[3 1 0]\n",
            "   [3 2 0]\n",
            "   [3 1 2]]\n",
            "\n",
            "  [[1 0 2]\n",
            "   [2 0 3]\n",
            "   [1 2 3]]\n",
            "\n",
            "  [[0 2 2]\n",
            "   [0 3 1]\n",
            "   [2 3 0]]\n",
            "\n",
            "  [[2 2 3]\n",
            "   [3 1 1]\n",
            "   [3 0 3]]]\n",
            "\n",
            "\n",
            " [[[1 3 0]\n",
            "   [3 0 0]\n",
            "   [3 3 2]]\n",
            "\n",
            "  [[3 0 3]\n",
            "   [0 0 0]\n",
            "   [3 2 1]]\n",
            "\n",
            "  [[0 3 3]\n",
            "   [0 0 3]\n",
            "   [2 1 0]]\n",
            "\n",
            "  [[3 3 2]\n",
            "   [0 3 1]\n",
            "   [1 0 1]]\n",
            "\n",
            "  [[3 2 0]\n",
            "   [3 1 2]\n",
            "   [0 1 1]]\n",
            "\n",
            "  [[2 0 3]\n",
            "   [1 2 3]\n",
            "   [1 1 0]]\n",
            "\n",
            "  [[0 3 1]\n",
            "   [2 3 0]\n",
            "   [1 0 3]]\n",
            "\n",
            "  [[3 1 1]\n",
            "   [3 0 3]\n",
            "   [0 3 0]]]\n",
            "\n",
            "\n",
            " [[[3 0 0]\n",
            "   [3 3 2]\n",
            "   [2 2 0]]\n",
            "\n",
            "  [[0 0 0]\n",
            "   [3 2 1]\n",
            "   [2 0 0]]\n",
            "\n",
            "  [[0 0 3]\n",
            "   [2 1 0]\n",
            "   [0 0 2]]\n",
            "\n",
            "  [[0 3 1]\n",
            "   [1 0 1]\n",
            "   [0 2 1]]\n",
            "\n",
            "  [[3 1 2]\n",
            "   [0 1 1]\n",
            "   [2 1 0]]\n",
            "\n",
            "  [[1 2 3]\n",
            "   [1 1 0]\n",
            "   [1 0 2]]\n",
            "\n",
            "  [[2 3 0]\n",
            "   [1 0 3]\n",
            "   [0 2 0]]\n",
            "\n",
            "  [[3 0 3]\n",
            "   [0 3 0]\n",
            "   [2 0 1]]]\n",
            "\n",
            "\n",
            " [[[3 3 2]\n",
            "   [2 2 0]\n",
            "   [0 2 1]]\n",
            "\n",
            "  [[3 2 1]\n",
            "   [2 0 0]\n",
            "   [2 1 3]]\n",
            "\n",
            "  [[2 1 0]\n",
            "   [0 0 2]\n",
            "   [1 3 3]]\n",
            "\n",
            "  [[1 0 1]\n",
            "   [0 2 1]\n",
            "   [3 3 1]]\n",
            "\n",
            "  [[0 1 1]\n",
            "   [2 1 0]\n",
            "   [3 1 0]]\n",
            "\n",
            "  [[1 1 0]\n",
            "   [1 0 2]\n",
            "   [1 0 2]]\n",
            "\n",
            "  [[1 0 3]\n",
            "   [0 2 0]\n",
            "   [0 2 1]]\n",
            "\n",
            "  [[0 3 0]\n",
            "   [2 0 1]\n",
            "   [2 1 2]]]\n",
            "\n",
            "\n",
            " [[[2 2 0]\n",
            "   [0 2 1]\n",
            "   [0 1 3]]\n",
            "\n",
            "  [[2 0 0]\n",
            "   [2 1 3]\n",
            "   [1 3 2]]\n",
            "\n",
            "  [[0 0 2]\n",
            "   [1 3 3]\n",
            "   [3 2 1]]\n",
            "\n",
            "  [[0 2 1]\n",
            "   [3 3 1]\n",
            "   [2 1 0]]\n",
            "\n",
            "  [[2 1 0]\n",
            "   [3 1 0]\n",
            "   [1 0 2]]\n",
            "\n",
            "  [[1 0 2]\n",
            "   [1 0 2]\n",
            "   [0 2 0]]\n",
            "\n",
            "  [[0 2 0]\n",
            "   [0 2 1]\n",
            "   [2 0 3]]\n",
            "\n",
            "  [[2 0 1]\n",
            "   [2 1 2]\n",
            "   [0 3 0]]]\n",
            "\n",
            "\n",
            " [[[0 2 1]\n",
            "   [0 1 3]\n",
            "   [1 3 3]]\n",
            "\n",
            "  [[2 1 3]\n",
            "   [1 3 2]\n",
            "   [3 3 3]]\n",
            "\n",
            "  [[1 3 3]\n",
            "   [3 2 1]\n",
            "   [3 3 0]]\n",
            "\n",
            "  [[3 3 1]\n",
            "   [2 1 0]\n",
            "   [3 0 3]]\n",
            "\n",
            "  [[3 1 0]\n",
            "   [1 0 2]\n",
            "   [0 3 3]]\n",
            "\n",
            "  [[1 0 2]\n",
            "   [0 2 0]\n",
            "   [3 3 1]]\n",
            "\n",
            "  [[0 2 1]\n",
            "   [2 0 3]\n",
            "   [3 1 3]]\n",
            "\n",
            "  [[2 1 2]\n",
            "   [0 3 0]\n",
            "   [1 3 0]]]\n",
            "\n",
            "\n",
            " [[[0 1 3]\n",
            "   [1 3 3]\n",
            "   [2 1 1]]\n",
            "\n",
            "  [[1 3 2]\n",
            "   [3 3 3]\n",
            "   [1 1 3]]\n",
            "\n",
            "  [[3 2 1]\n",
            "   [3 3 0]\n",
            "   [1 3 3]]\n",
            "\n",
            "  [[2 1 0]\n",
            "   [3 0 3]\n",
            "   [3 3 0]]\n",
            "\n",
            "  [[1 0 2]\n",
            "   [0 3 3]\n",
            "   [3 0 3]]\n",
            "\n",
            "  [[0 2 0]\n",
            "   [3 3 1]\n",
            "   [0 3 3]]\n",
            "\n",
            "  [[2 0 3]\n",
            "   [3 1 3]\n",
            "   [3 3 2]]\n",
            "\n",
            "  [[0 3 0]\n",
            "   [1 3 0]\n",
            "   [3 2 1]]]\n",
            "\n",
            "\n",
            " [[[1 3 3]\n",
            "   [2 1 1]\n",
            "   [2 3 0]]\n",
            "\n",
            "  [[3 3 3]\n",
            "   [1 1 3]\n",
            "   [3 0 2]]\n",
            "\n",
            "  [[3 3 0]\n",
            "   [1 3 3]\n",
            "   [0 2 1]]\n",
            "\n",
            "  [[3 0 3]\n",
            "   [3 3 0]\n",
            "   [2 1 2]]\n",
            "\n",
            "  [[0 3 3]\n",
            "   [3 0 3]\n",
            "   [1 2 0]]\n",
            "\n",
            "  [[3 3 1]\n",
            "   [0 3 3]\n",
            "   [2 0 1]]\n",
            "\n",
            "  [[3 1 3]\n",
            "   [3 3 2]\n",
            "   [0 1 1]]\n",
            "\n",
            "  [[1 3 0]\n",
            "   [3 2 1]\n",
            "   [1 1 1]]]]\n"
          ]
        }
      ],
      "source": [
        "arr = np.random.randint(0,4,(10,10))\n",
        "n = 3\n",
        "i = 1 + (arr.shape[0]-3)\n",
        "j = 1 + (arr.shape[1]-3)\n",
        "C = stride_tricks.as_strided(arr, shape=(i, j,n, n), strides=arr.strides+arr.strides )\n",
        "print(C)\n"
      ]
    },
    {
      "cell_type": "markdown",
      "metadata": {
        "id": "rDPmOm3AXc3Y"
      },
      "source": [
        "#### 85. Create a 2D array subclass such that Z\\[i,j\\] == Z\\[j,i\\] (★★★) \n",
        "(**hint**: class method)"
      ]
    },
    {
      "cell_type": "code",
      "execution_count": 3,
      "metadata": {
        "id": "lMuk2bFgXc3Y",
        "colab": {
          "base_uri": "https://localhost:8080/"
        },
        "outputId": "08abf4da-cb88-44e5-ddfb-c06d7f943134"
      },
      "outputs": [
        {
          "output_type": "stream",
          "name": "stdout",
          "text": [
            "[[ 5  9 13  2 12]\n",
            " [ 9  2 12  5  9]\n",
            " [13 12  7 42  4]\n",
            " [ 2  5 42  8  8]\n",
            " [12  9  4  8  1]]\n"
          ]
        }
      ],
      "source": [
        "class Symetric(np.ndarray):\n",
        "    def __setitem__(self, index, value):\n",
        "        i,j = index\n",
        "        super(Symetric, self).__setitem__((i,j), value)\n",
        "        super(Symetric, self).__setitem__((j,i), value)\n",
        "\n",
        "def symetric(Z):\n",
        "    return np.asarray(Z + Z.T - np.diag(Z.diagonal())).view(Symetric)\n",
        "\n",
        "S = symetric(np.random.randint(0,10,(5,5)))\n",
        "S[2,3] = 42\n",
        "print(S)"
      ]
    },
    {
      "cell_type": "markdown",
      "metadata": {
        "id": "K7Dl_85uXc3Z"
      },
      "source": [
        "#### 86. Consider a set of p matrices wich shape (n,n) and a set of p vectors with shape (n,1). How to compute the sum of of the p matrix products at once? (result has shape (n,1)) (★★★) \n",
        "(**hint**: np.tensordot)"
      ]
    },
    {
      "cell_type": "code",
      "execution_count": 164,
      "metadata": {
        "id": "qsWCBAQLXc3Z",
        "colab": {
          "base_uri": "https://localhost:8080/"
        },
        "outputId": "85f988d7-7dc0-4876-eb9a-121ff8401970"
      },
      "outputs": [
        {
          "output_type": "stream",
          "name": "stdout",
          "text": [
            "[[200.]\n",
            " [200.]\n",
            " [200.]\n",
            " [200.]\n",
            " [200.]\n",
            " [200.]\n",
            " [200.]\n",
            " [200.]\n",
            " [200.]\n",
            " [200.]\n",
            " [200.]\n",
            " [200.]\n",
            " [200.]\n",
            " [200.]\n",
            " [200.]\n",
            " [200.]\n",
            " [200.]\n",
            " [200.]\n",
            " [200.]\n",
            " [200.]]\n"
          ]
        }
      ],
      "source": [
        "p, n = 10, 20\n",
        "M = np.ones((p,n,n))\n",
        "V = np.ones((p,n,1))\n",
        "S = np.tensordot(M, V, axes=[[0, 2], [0, 1]])\n",
        "print(S)"
      ]
    },
    {
      "cell_type": "markdown",
      "metadata": {
        "id": "Hg3KoK0gXc3Z"
      },
      "source": [
        "#### 87. Consider a 16x16 array, how to get the block-sum (block size is 4x4)? (★★★) \n",
        "(**hint**: np.add.reduceat)"
      ]
    },
    {
      "cell_type": "code",
      "execution_count": 165,
      "metadata": {
        "id": "HhdCRXUlXc3a",
        "colab": {
          "base_uri": "https://localhost:8080/"
        },
        "outputId": "7cfd27ff-5118-439b-c94d-f7ef1829326b"
      },
      "outputs": [
        {
          "output_type": "stream",
          "name": "stdout",
          "text": [
            "[[16. 16. 16. 16.]\n",
            " [16. 16. 16. 16.]\n",
            " [16. 16. 16. 16.]\n",
            " [16. 16. 16. 16.]]\n"
          ]
        }
      ],
      "source": [
        "Z = np.ones((16,16))\n",
        "k = 4\n",
        "S = np.add.reduceat(np.add.reduceat(Z, np.arange(0, Z.shape[0], k), axis=0),\n",
        "                                       np.arange(0, Z.shape[1], k), axis=1)\n",
        "print(S)"
      ]
    },
    {
      "cell_type": "markdown",
      "metadata": {
        "id": "m9xOJRP5Xc3a"
      },
      "source": [
        "#### 88. How to implement the Game of Life using numpy arrays? (★★★)"
      ]
    },
    {
      "cell_type": "code",
      "execution_count": 166,
      "metadata": {
        "id": "EHcxa2FBXc3b",
        "colab": {
          "base_uri": "https://localhost:8080/"
        },
        "outputId": "b7bb0db6-95fa-4505-b001-3c3ba5f2b7d0"
      },
      "outputs": [
        {
          "output_type": "stream",
          "name": "stdout",
          "text": [
            "[[0 0 0 ... 0 0 0]\n",
            " [0 0 0 ... 0 0 0]\n",
            " [0 0 0 ... 0 0 0]\n",
            " ...\n",
            " [0 0 0 ... 0 0 0]\n",
            " [0 0 0 ... 0 0 0]\n",
            " [0 0 0 ... 0 0 0]]\n"
          ]
        }
      ],
      "source": [
        "def iterate(Z):\n",
        "    # Count neighbours\n",
        "    N = (Z[0:-2,0:-2] + Z[0:-2,1:-1] + Z[0:-2,2:] +\n",
        "         Z[1:-1,0:-2]                + Z[1:-1,2:] +\n",
        "         Z[2:  ,0:-2] + Z[2:  ,1:-1] + Z[2:  ,2:])\n",
        "\n",
        "    # Apply rules\n",
        "    birth = (N==3) & (Z[1:-1,1:-1]==0)\n",
        "    survive = ((N==2) | (N==3)) & (Z[1:-1,1:-1]==1)\n",
        "    Z[...] = 0\n",
        "    Z[1:-1,1:-1][birth | survive] = 1\n",
        "    return Z\n",
        "\n",
        "Z = np.random.randint(0,2,(50,50))\n",
        "for i in range(100): Z = iterate(Z)\n",
        "print(Z)"
      ]
    },
    {
      "cell_type": "markdown",
      "source": [],
      "metadata": {
        "id": "chLTYSHngLGG"
      }
    },
    {
      "cell_type": "markdown",
      "metadata": {
        "id": "aYE5wd7PXc3b"
      },
      "source": [
        "#### 89. How to get the n largest values of an array (★★★) \n",
        "(**hint**: np.argsort | np.argpartition)"
      ]
    },
    {
      "cell_type": "code",
      "execution_count": 8,
      "metadata": {
        "id": "y4t9NcAzXc3c",
        "colab": {
          "base_uri": "https://localhost:8080/"
        },
        "outputId": "2d24c3a7-c6b3-4453-9f04-9a2079f1de09"
      },
      "outputs": [
        {
          "output_type": "stream",
          "name": "stdout",
          "text": [
            "[9997 9998 9999]\n",
            "[9997 9998 9999]\n"
          ]
        }
      ],
      "source": [
        "Z = np.arange(10000)\n",
        "np.random.shuffle(Z)\n",
        "n = 3\n",
        "print (Z[np.argsort(Z)[-n:]])\n",
        "print (Z[np.argpartition(-Z,n)[:n]])"
      ]
    },
    {
      "cell_type": "markdown",
      "metadata": {
        "id": "dxYwp9RGXc3d"
      },
      "source": [
        "#### 90. Given an arbitrary number of vectors, build the cartesian product (every combinations of every item) (★★★) \n",
        "(**hint**: np.indices)"
      ]
    },
    {
      "cell_type": "code",
      "execution_count": 9,
      "metadata": {
        "scrolled": true,
        "id": "3zlsgv3KXc3d",
        "colab": {
          "base_uri": "https://localhost:8080/"
        },
        "outputId": "0e55dedb-ac9f-45dc-e24f-3119d5d204b7"
      },
      "outputs": [
        {
          "output_type": "stream",
          "name": "stdout",
          "text": [
            "[[1 4 6]\n",
            " [1 4 7]\n",
            " [1 5 6]\n",
            " [1 5 7]\n",
            " [2 4 6]\n",
            " [2 4 7]\n",
            " [2 5 6]\n",
            " [2 5 7]\n",
            " [3 4 6]\n",
            " [3 4 7]\n",
            " [3 5 6]\n",
            " [3 5 7]]\n"
          ]
        }
      ],
      "source": [
        "def cartesian(arrays):\n",
        "    arrays = [np.asarray(a) for a in arrays]\n",
        "    shape = (len(x) for x in arrays)\n",
        "\n",
        "    ix = np.indices(shape, dtype=int)\n",
        "    ix = ix.reshape(len(arrays), -1).T\n",
        "\n",
        "    for n, arr in enumerate(arrays):\n",
        "        ix[:, n] = arrays[n][ix[:, n]]\n",
        "\n",
        "    return ix\n",
        "\n",
        "print (cartesian(([1, 2, 3], [4, 5], [6, 7])))"
      ]
    },
    {
      "cell_type": "markdown",
      "metadata": {
        "id": "KP6FgUFzXc3e"
      },
      "source": [
        "#### 91. How to create a record array from a regular array? (★★★) \n",
        "(**hint**: np.core.records.fromarrays)"
      ]
    },
    {
      "cell_type": "code",
      "execution_count": 2,
      "metadata": {
        "id": "STM3IEliXc3e",
        "colab": {
          "base_uri": "https://localhost:8080/"
        },
        "outputId": "10dca253-8132-4753-ef11-2268881292d1"
      },
      "outputs": [
        {
          "output_type": "stream",
          "name": "stdout",
          "text": [
            "[(b'Hello', 2.5, 3) (b'World', 3.6, 2)]\n"
          ]
        }
      ],
      "source": [
        "Z = np.array([(\"Hello\", 2.5, 3),\n",
        "              (\"World\", 3.6, 2)])\n",
        "R = np.core.records.fromarrays(Z.T, \n",
        "                               names='col1, col2, col3',\n",
        "                               formats = 'S8, f8, i8')\n",
        "print(R)"
      ]
    },
    {
      "cell_type": "markdown",
      "metadata": {
        "id": "PwC1THZgXc3e"
      },
      "source": [
        "#### 92. Consider a large vector Z, compute Z to the power of 3 using 3 different methods (★★★) \n",
        "(**hint**: np.power, \\*, np.einsum)"
      ]
    },
    {
      "cell_type": "code",
      "execution_count": 52,
      "metadata": {
        "id": "98qFaugsXc3f",
        "colab": {
          "base_uri": "https://localhost:8080/"
        },
        "outputId": "5a816678-02fc-4faf-c4d6-117cd35ae209"
      },
      "outputs": [
        {
          "output_type": "stream",
          "name": "stdout",
          "text": [
            "12315028600055089\n",
            "12315028600055089\n"
          ]
        }
      ],
      "source": [
        "Z = np.random.randint(5e5)\n",
        "A=(np.power(Z,3))\n",
        "B=(Z*Z*Z)\n",
        "#C=np.einsum('i,i,i->i', Z, Z,Z)\n",
        "print(A)\n",
        "print(B)\n",
        "#print(C)"
      ]
    },
    {
      "cell_type": "markdown",
      "metadata": {
        "id": "sPYPOFkmXc3f"
      },
      "source": [
        "#### 93. Consider two arrays A and B of shape (8,3) and (2,2). How to find rows of A that contain elements of each row of B regardless of the order of the elements in B? (★★★) \n",
        "(**hint**: np.where)"
      ]
    },
    {
      "cell_type": "code",
      "execution_count": 31,
      "metadata": {
        "id": "Ps-gTnz1Xc3g",
        "colab": {
          "base_uri": "https://localhost:8080/"
        },
        "outputId": "e27f9b16-2444-4c6f-ced7-30b1da30c2a2"
      },
      "outputs": [
        {
          "output_type": "stream",
          "name": "stdout",
          "text": [
            "[[1 3 2]\n",
            " [3 3 2]\n",
            " [1 0 1]\n",
            " [2 0 0]\n",
            " [2 3 2]\n",
            " [2 2 0]\n",
            " [3 0 0]\n",
            " [2 1 2]] [[1 1]\n",
            " [3 2]] [[[[ True  True]\n",
            "   [False False]]\n",
            "\n",
            "  [[False False]\n",
            "   [ True False]]\n",
            "\n",
            "  [[False False]\n",
            "   [False  True]]]\n",
            "\n",
            "\n",
            " [[[False False]\n",
            "   [ True False]]\n",
            "\n",
            "  [[False False]\n",
            "   [ True False]]\n",
            "\n",
            "  [[False False]\n",
            "   [False  True]]]\n",
            "\n",
            "\n",
            " [[[ True  True]\n",
            "   [False False]]\n",
            "\n",
            "  [[False False]\n",
            "   [False False]]\n",
            "\n",
            "  [[ True  True]\n",
            "   [False False]]]\n",
            "\n",
            "\n",
            " [[[False False]\n",
            "   [False  True]]\n",
            "\n",
            "  [[False False]\n",
            "   [False False]]\n",
            "\n",
            "  [[False False]\n",
            "   [False False]]]\n",
            "\n",
            "\n",
            " [[[False False]\n",
            "   [False  True]]\n",
            "\n",
            "  [[False False]\n",
            "   [ True False]]\n",
            "\n",
            "  [[False False]\n",
            "   [False  True]]]\n",
            "\n",
            "\n",
            " [[[False False]\n",
            "   [False  True]]\n",
            "\n",
            "  [[False False]\n",
            "   [False  True]]\n",
            "\n",
            "  [[False False]\n",
            "   [False False]]]\n",
            "\n",
            "\n",
            " [[[False False]\n",
            "   [ True False]]\n",
            "\n",
            "  [[False False]\n",
            "   [False False]]\n",
            "\n",
            "  [[False False]\n",
            "   [False False]]]\n",
            "\n",
            "\n",
            " [[[False False]\n",
            "   [False  True]]\n",
            "\n",
            "  [[ True  True]\n",
            "   [False False]]\n",
            "\n",
            "  [[False False]\n",
            "   [False  True]]]]\n",
            "[0 1 2 4 7]\n"
          ]
        }
      ],
      "source": [
        "A = np.random.randint(0,4,(8,3))\n",
        "B = np.random.randint(0,4,(2,2))\n",
        "C = (A[..., np.newaxis, np.newaxis] == B)\n",
        "rows = np.where(C.any((2,1)).all(1))[0]\n",
        "print(A,B,C)\n",
        "print(rows)"
      ]
    },
    {
      "cell_type": "markdown",
      "metadata": {
        "id": "kqyn3P5OXc3g"
      },
      "source": [
        "#### 94. Considering a 10x3 matrix, extract rows with unequal values (e.g. \\[2,2,3\\]) (★★★)"
      ]
    },
    {
      "cell_type": "code",
      "execution_count": 37,
      "metadata": {
        "id": "rwCiwP5YXc3g",
        "colab": {
          "base_uri": "https://localhost:8080/"
        },
        "outputId": "286360c9-13da-4e58-f9eb-2e8ca8454d42"
      },
      "outputs": [
        {
          "output_type": "stream",
          "name": "stdout",
          "text": [
            "[[0 1 1]\n",
            " [1 0 1]\n",
            " [0 0 0]\n",
            " [1 1 0]\n",
            " [0 1 1]\n",
            " [1 1 0]\n",
            " [0 0 0]\n",
            " [1 0 1]\n",
            " [1 1 1]\n",
            " [0 1 1]]\n",
            "[[0 1 1]\n",
            " [1 0 1]\n",
            " [1 1 0]\n",
            " [0 1 1]\n",
            " [1 1 0]\n",
            " [1 0 1]\n",
            " [0 1 1]]\n"
          ]
        }
      ],
      "source": [
        "Z = np.random.randint(0,2,(10,3))\n",
        "print(Z)\n",
        "E = np.all(Z[:,1:] == Z[:,:-1], axis=1)\n",
        "U = Z[~E]\n",
        "print(U)"
      ]
    },
    {
      "cell_type": "markdown",
      "metadata": {
        "id": "EKOjOq3fXc3h"
      },
      "source": [
        "#### 95. Convert a vector of ints into a matrix binary representation (★★★) \n",
        "(**hint**: np.unpackbits)"
      ]
    },
    {
      "cell_type": "code",
      "execution_count": 42,
      "metadata": {
        "id": "u11trx1lXc3h",
        "colab": {
          "base_uri": "https://localhost:8080/"
        },
        "outputId": "c619ba5e-ea3b-433b-b119-cfcc6b2adada"
      },
      "outputs": [
        {
          "output_type": "stream",
          "name": "stdout",
          "text": [
            "[[0 0 0 0 1 0 1 0]\n",
            " [0 0 0 1 1 1 0 0]\n",
            " [0 0 0 0 0 0 1 0]\n",
            " [0 0 0 0 0 0 1 1]\n",
            " [0 0 1 1 1 0 0 0]\n",
            " [0 1 1 0 1 0 1 0]\n",
            " [0 0 1 0 0 0 0 0]\n",
            " [0 1 1 0 1 1 1 1]\n",
            " [1 0 0 0 0 0 0 0]]\n"
          ]
        }
      ],
      "source": [
        "I = np.array([10, 28, 2, 3, 56, 106, 32, 111, 128], dtype=np.uint8)\n",
        "print(np.unpackbits(I[:, np.newaxis], axis=1))"
      ]
    },
    {
      "cell_type": "markdown",
      "metadata": {
        "id": "w9_yBecQXc3h"
      },
      "source": [
        "#### 96. Given a two dimensional array, how to extract unique rows? (★★★) \n",
        "(**hint**: np.ascontiguousarray)"
      ]
    },
    {
      "cell_type": "code",
      "execution_count": 43,
      "metadata": {
        "id": "xm33rndjXc3i",
        "colab": {
          "base_uri": "https://localhost:8080/"
        },
        "outputId": "43a50343-9597-43ca-80fd-cf201215fadb"
      },
      "outputs": [
        {
          "output_type": "stream",
          "name": "stdout",
          "text": [
            "[[0 0 0]\n",
            " [1 0 0]\n",
            " [1 1 0]\n",
            " [1 1 1]]\n",
            "[[0 0 0]\n",
            " [1 0 0]\n",
            " [1 1 0]\n",
            " [1 1 1]]\n"
          ]
        }
      ],
      "source": [
        "Z = np.random.randint(0,2,(6,3))\n",
        "T = np.ascontiguousarray(Z).view(np.dtype((np.void, Z.dtype.itemsize * Z.shape[1])))\n",
        "_, idx = np.unique(T, return_index=True)\n",
        "uZ = Z[idx]\n",
        "print(uZ)\n",
        "uZ = np.unique(Z, axis=0)\n",
        "print(uZ)"
      ]
    },
    {
      "cell_type": "markdown",
      "metadata": {
        "id": "VvUe4rIOXc3i"
      },
      "source": [
        "#### 97. Considering 2 vectors A & B, write the einsum equivalent of inner, outer, sum, and mul function (★★★) \n",
        "(**hint**: np.einsum)"
      ]
    },
    {
      "cell_type": "code",
      "execution_count": 55,
      "metadata": {
        "id": "pkJaH6G6Xc3j",
        "colab": {
          "base_uri": "https://localhost:8080/"
        },
        "outputId": "452c4b65-8414-4b03-9be0-719ee5c6225a"
      },
      "outputs": [
        {
          "output_type": "stream",
          "name": "stdout",
          "text": [
            "3.15783284071477\n",
            "[0.56589363 0.57368496 0.1073331  0.05581098 0.36811259]\n",
            "1.670835249744112\n",
            "[[0.56589363 0.56485338 0.08415891 0.52991619 0.51131238]\n",
            " [0.57474147 0.57368496 0.08547475 0.53820152 0.51930683]\n",
            " [0.72171939 0.7203927  0.1073331  0.67583513 0.65210852]\n",
            " [0.05960014 0.05949058 0.00886365 0.05581098 0.05385162]\n",
            " [0.40740763 0.40665873 0.06058909 0.38150616 0.36811259]]\n"
          ]
        }
      ],
      "source": [
        "A = np.random.uniform(0,1,5)\n",
        "B = np.random.uniform(0,1,5)\n",
        "\n",
        "print(np.einsum('i->', A))       # np.sum(A)\n",
        "print(np.einsum('i,i->i', A, B)) # A * B\n",
        "print(np.einsum('i,i', A, B))   # np.inner(A, B)\n",
        "print(np.einsum('i,j->ij', A, B))    # np.outer(A, B)"
      ]
    },
    {
      "cell_type": "markdown",
      "metadata": {
        "id": "qnSJOsYeXc3j"
      },
      "source": [
        "#### 98. Considering a path described by two vectors (X,Y), how to sample it using equidistant samples (★★★)? \n",
        "(**hint**: np.cumsum, np.interp)"
      ]
    },
    {
      "cell_type": "code",
      "execution_count": 58,
      "metadata": {
        "collapsed": true,
        "id": "7YpeaQEKXc3j",
        "colab": {
          "base_uri": "https://localhost:8080/"
        },
        "outputId": "4a257857-bf67-485c-8dbe-ed91fb83d7c6"
      },
      "outputs": [
        {
          "output_type": "stream",
          "name": "stdout",
          "text": [
            "[  0.           5.00090735  10.00181469  15.00272204  20.00362938\n",
            "  25.00453673  30.00544407  35.00635142  40.00725876  45.00816611\n",
            "  50.00907345  55.0099808   60.01088814  65.01179549  70.01270283\n",
            "  75.01361018  80.01451752  85.01542487  90.01633222  95.01723956\n",
            " 100.01814691 105.01905425 110.0199616  115.02086894 120.02177629\n",
            " 125.02268363 130.02359098 135.02449832 140.02540567 145.02631301\n",
            " 150.02722036 155.0281277  160.02903505 165.0299424  170.03084974\n",
            " 175.03175709 180.03266443 185.03357178 190.03447912 195.03538647\n",
            " 200.03629381 205.03720116 210.0381085  215.03901585 220.03992319\n",
            " 225.04083054 230.04173788 235.04264523 240.04355257 245.04445992\n",
            " 250.04536727 255.04627461 260.04718196 265.0480893  270.04899665\n",
            " 275.04990399 280.05081134 285.05171868 290.05262603 295.05353337\n",
            " 300.05444072 305.05534806 310.05625541 315.05716275 320.0580701\n",
            " 325.05897745 330.05988479 335.06079214 340.06169948 345.06260683\n",
            " 350.06351417 355.06442152 360.06532886 365.06623621 370.06714355\n",
            " 375.0680509  380.06895824 385.06986559 390.07077293 395.07168028\n",
            " 400.07258762 405.07349497 410.07440232 415.07530966 420.07621701\n",
            " 425.07712435 430.0780317  435.07893904 440.07984639 445.08075373\n",
            " 450.08166108 455.08256842 460.08347577 465.08438311 470.08529046\n",
            " 475.0861978  480.08710515 485.0880125  490.08891984 495.08982719] [  0.          -2.61512284  -2.14936168   2.50028884   5.96203714\n",
            "   5.77223109   2.33650447  -2.53900717  -6.86961236  -9.24075361\n",
            "  -9.0308223   -6.432776    -2.16288725   2.78322151   7.38579389\n",
            "  10.80742427  12.47880242  12.19412962  10.03784337   6.38500471\n",
            "   1.76960552  -3.20272911  -7.91485383 -11.80672939 -14.48306837\n",
            " -15.68244033 -15.29549963 -13.3904848  -10.18609766  -5.99490899\n",
            "  -1.20003046   3.78383426   8.53683856  12.68524401  15.92616263\n",
            "  18.04128328  18.84656754  18.34749949  16.59616271  13.68428442\n",
            "   9.87139514   5.35780201   0.47007468  -4.50950156  -9.28619199\n",
            " -13.58119833 -17.15457155 -19.8426937  -21.47527309 -21.98546787\n",
            " -21.38085885 -19.6985705  -16.99831957 -13.44562276  -9.22380452\n",
            "  -4.53222154   0.41265587   5.38749636  10.17225708  14.55018883\n",
            "  18.34220183  21.39472901  23.58788838  24.83948819  25.10693499\n",
            "  24.38740029  22.71635022  20.16461098  16.83294219  12.84082559\n",
            "   8.35308415   3.53524549  -1.43998185  -6.39918042 -11.17425235\n",
            " -15.60779494 -19.54749114 -22.84587094 -25.42243088 -27.20406206\n",
            " -28.14340087 -28.18832266 -27.33600091 -25.6560118  -23.20343594\n",
            " -20.02126801 -16.21869414 -11.93450801  -7.28126809  -2.37917672\n",
            "   2.60939571   7.56138177  12.31743382  16.77058996  20.80887652\n",
            "  24.27738306  27.15211735  29.31817687  30.72313445  31.39601771] [  0.           0.96326036  -3.56792637  -4.57063476  -1.19685261\n",
            "   3.67108521   7.15751177   7.75654723   5.41363279   1.08616686\n",
            "  -3.85149748  -8.06088076 -10.57155408 -10.88149888  -9.03738181\n",
            "  -5.44127573  -0.76322637   4.19841425   8.67658754  12.04476454\n",
            "  13.89158433  13.98320124  12.38931677   9.28925006   5.09546723\n",
            "   0.26450074  -4.70057774  -9.302389   -13.11478234 -15.80597484\n",
            " -17.15998724 -17.07991121 -15.58017858 -12.8222377   -9.03975375\n",
            "  -4.52615857   0.39380777   5.35137527  10.01938969  14.06566682\n",
            "  17.27907057  19.39930679  20.38918601  20.11657932  18.68549988\n",
            "  16.15184129  12.67349532   8.47248151   3.75914621  -1.20215354\n",
            "  -6.15245775 -10.84953158 -15.04577001 -18.54778589 -21.20321567\n",
            " -22.89614131 -23.55651679 -23.16186912 -21.73678208 -19.33619173\n",
            " -16.08978074 -12.14090423  -7.65782181  -2.82660371   2.15710225\n",
            "   7.09627206  11.80032104  16.09222281  19.813306    22.81460122\n",
            "  25.00236777  26.30543496  26.68582656  26.13850051  24.68988224\n",
            "  22.39536749  19.32529793  15.57624336  11.30225674   6.64123281\n",
            "   1.73827274  -3.25616817  -8.17538784 -12.87432712 -17.22253684\n",
            " -21.072247   -24.30647509 -26.86649746 -28.68172655 -29.63574172\n",
            " -29.7855353  -29.13240517 -27.60698229 -25.35300035 -22.41361974\n",
            " -18.82124739 -14.7401884  -10.23967015  -5.4495912   -0.50007209]\n"
          ]
        }
      ],
      "source": [
        "phi = np.arange(0, 10*np.pi, 0.1)\n",
        "a = 1\n",
        "x = a*phi*np.cos(phi)\n",
        "y = a*phi*np.sin(phi)\n",
        "\n",
        "dr = (np.diff(x)**2 + np.diff(y)**2)**.5\n",
        "r = np.zeros_like(x)\n",
        "r[1:] = np.cumsum(dr)                \n",
        "r_int = np.linspace(0, r.max(), 100) \n",
        "x_int = np.interp(r_int, r, x)       \n",
        "y_int = np.interp(r_int, r, y)\n",
        "print(r_int,x_int,y_int)"
      ]
    },
    {
      "cell_type": "markdown",
      "metadata": {
        "id": "6xmmVIDzXc3k"
      },
      "source": [
        "#### 99. Given an integer n and a 2D array X, select from X the rows which can be interpreted as draws from a multinomial distribution with n degrees, i.e., the rows which only contain integers and which sum to n. (★★★) \n",
        "(**hint**: np.logical\\_and.reduce, np.mod)"
      ]
    },
    {
      "cell_type": "code",
      "execution_count": 64,
      "metadata": {
        "id": "bDW98ZiCXc3k",
        "colab": {
          "base_uri": "https://localhost:8080/"
        },
        "outputId": "035739df-f936-465d-aea8-8081278ced10"
      },
      "outputs": [
        {
          "output_type": "stream",
          "name": "stdout",
          "text": [
            "[]\n"
          ]
        }
      ],
      "source": [
        "X = np.asarray([[2.0, 1.0, 6.0, 9.5],\n",
        "                [3.0, 7.0, 1.0, 7.0],\n",
        "                [1.5, 2.5, 0.0, 1.0]])\n",
        "n = 4\n",
        "M = np.logical_and.reduce(np.mod(X, 1) == 0, axis=-1)\n",
        "M &= (X.sum(axis=-1) == n)\n",
        "print(X[M])"
      ]
    },
    {
      "cell_type": "markdown",
      "metadata": {
        "id": "5UoTmErSXc3k"
      },
      "source": [
        "#### 100. Compute bootstrapped 95% confidence intervals for the mean of a 1D array X (i.e., resample the elements of an array with replacement N times, compute the mean of each sample, and then compute percentiles over the means). (★★★) \n",
        "(**hint**: np.percentile)"
      ]
    },
    {
      "cell_type": "code",
      "execution_count": 67,
      "metadata": {
        "id": "KbPkNsCPXc3l",
        "colab": {
          "base_uri": "https://localhost:8080/"
        },
        "outputId": "d8b11694-aecb-46a5-a66a-b52d4271b620"
      },
      "outputs": [
        {
          "output_type": "stream",
          "name": "stdout",
          "text": [
            "[-0.15166416  0.17609352]\n"
          ]
        }
      ],
      "source": [
        "X = np.random.randn(100)\n",
        "N = 1000\n",
        "ind = np.random.randint(0, X.size, (N, X.size))\n",
        "means = X[ind].mean(axis=1)\n",
        "con = np.percentile(means, [5, 95])\n",
        "print(con)"
      ]
    }
  ],
  "metadata": {
    "kernelspec": {
      "display_name": "Python 3",
      "language": "python",
      "name": "python3"
    },
    "language_info": {
      "codemirror_mode": {
        "name": "ipython",
        "version": 3
      },
      "file_extension": ".py",
      "mimetype": "text/x-python",
      "name": "python",
      "nbconvert_exporter": "python",
      "pygments_lexer": "ipython3",
      "version": "3.8.3"
    },
    "colab": {
      "provenance": [],
      "include_colab_link": true
    }
  },
  "nbformat": 4,
  "nbformat_minor": 0
}